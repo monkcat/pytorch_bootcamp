{
 "cells": [
  {
   "cell_type": "markdown",
   "id": "3c1f3d88-27e4-4dc0-926d-1d5f8ca0b511",
   "metadata": {},
   "source": [
    "# 03. PyTorch Computer Vision\n",
    "\n",
    "CV에서 가증한 작업 \n",
    "\n",
    "- 이진 분류 : 이미지가 두 클래스중 어디에 속하는지 예측\n",
    "- 다중 클래스 분류 : 이미지가 3개 이상의 클래스 중 어디에 속하는지 예측\n",
    "- 객체 탐지 : 이미지 속 특정 물체의 위치와 종류를 찾아냄\n",
    "- 시맨틱/파놉틱 세분화(Segmentation) : 이미지에서 픽셀 단위로 물체 영역을 분리\n"
   ]
  },
  {
   "cell_type": "markdown",
   "id": "f6438b27-0c5f-40bd-a225-b9c19b904e35",
   "metadata": {},
   "source": [
    "## 목차\n",
    "\n",
    "0. PyTorch 컴퓨터 비전 라이브러리 : torchvision\n",
    "1. 데이터 불러오기 : FashionMNIST 사용\n",
    "2. 데이터 준비 : PyTorch의 DataLoader를 사용해서 이미지를 배치 단위로 모델에 입력\n",
    "3. 모델_0(기본 모델) : 가장 단순한 신경망 모델을 구현해서 여러 클래스를 분류할수 있도록 함\n",
    "4. 모델_0 예측 및 평가\n",
    "5. 디바이스 설정\n",
    "6. 모델_1-비선형성 추가 : 활성화 함수 등을 활용해서 모델에 비선형성을 부여\n",
    "7. 모델_2-CNN : CNN 모델 만들기\n",
    "8. 모델 성능 비교\n",
    "9. 최적 모델 평가\n",
    "10. Confusion Matrix : 예측 정확도 분석\n",
    "11. 모델 저장 및 불러오기"
   ]
  },
  {
   "cell_type": "markdown",
   "id": "b8000385-bf1d-4cbe-b666-decda8c0bf73",
   "metadata": {},
   "source": [
    "## 0.torchvision 소개\n",
    "\n",
    "- torchvision\n",
    "- torchvision.datasets : 다양한 예제 데이터셋 포함, 사용자 정의 데이터셋을 만들 수 있는 베이스 클래스 제공\n",
    "- torchvision.models : ResNet, VGG, EfficientNet 등 사전 학습된 컴퓨터 비전 모델 아키텍쳐들이 구현되어 있음\n",
    "- torchvision.transforms : 이미지를 텐서로 바꾸거나, 정규화/회전/자르기 등의 이미지 전처리 및 증강 기능 제공\n",
    "- torch.utils.data.Datast : 사용자 정의 데이터셋을 만들기 위한 기반 클래스\n",
    "- torch.utils.data.DataLoader : 위의 데이터셋으로 만든 데이터를 배치 단위로 공급할 수 있도록 iterable 형태로 감싸준다. 훈련 루프에서 필수적\n",
    "\n"
   ]
  },
  {
   "cell_type": "code",
   "execution_count": 14,
   "id": "d6f0e117-2c79-4876-b593-76f899f1ad94",
   "metadata": {},
   "outputs": [
    {
     "name": "stdout",
     "output_type": "stream",
     "text": [
      "PyTorch version : 2.3.0\n",
      "torchvision version:0.18.0\n"
     ]
    }
   ],
   "source": [
    "import torch\n",
    "from torch import nn\n",
    "import torchvision\n",
    "from torchvision import datasets\n",
    "from torchvision.transforms import ToTensor\n",
    "from torch.utils.data import DataLoader\n",
    "\n",
    "import matplotlib.pyplot as plt\n",
    "\n",
    "print(f\"PyTorch version : {torch.__version__}\\ntorchvision version:{torchvision.__version__}\")"
   ]
  },
  {
   "cell_type": "markdown",
   "id": "f6948fc3-7464-4c66-8031-5aad61d3243e",
   "metadata": {},
   "source": [
    "## 1. 데이터셋 준비\n",
    "\n",
    "datasets에 있는 FahsionMNIST()의 주요 인자 \n",
    " - root : 데이터 저장할 루트 경로 (data/에 저장)\n",
    " - train : True면 훈련용 데이터, False면 테스트용 데이터\n",
    " - download : 데이터셋이 없을 경우 자동으로 다운로드함\n",
    " - transform : 이미지에 적용할 변환 함수 (ToTensor()로 이미지를 PyTorch Tensor로 변환)\n",
    " - target_transform : 라벨에도 변환 적용 가능"
   ]
  },
  {
   "cell_type": "code",
   "execution_count": 16,
   "id": "e8515ad1-c6be-4689-b7ba-d7e199668a18",
   "metadata": {},
   "outputs": [],
   "source": [
    "train_data = datasets.FashionMNIST(\n",
    "    root = 'data', #데이터 저장할 경로\n",
    "    train = True, #훈련 데이터셋\n",
    "    download = True, #다운로드 허용\n",
    "    transform = ToTensor(), #이미지가 PIL 형식으로 오기 때문에 텐서로 변환해야 함\n",
    "    target_transform = None #라벨 데이터 변환 여부\n",
    ")\n",
    "\n",
    "test_data = datasets.FashionMNIST(\n",
    "    root = 'data',\n",
    "    train = False,\n",
    "    download = True,\n",
    "    transform = ToTensor()\n",
    ")"
   ]
  },
  {
   "cell_type": "code",
   "execution_count": 18,
   "id": "63259582-dd14-44df-9bbf-5d87f00d08ed",
   "metadata": {},
   "outputs": [
    {
     "data": {
      "text/plain": [
       "(tensor([[[0.0000, 0.0000, 0.0000, 0.0000, 0.0000, 0.0000, 0.0000, 0.0000,\n",
       "           0.0000, 0.0000, 0.0000, 0.0000, 0.0000, 0.0000, 0.0000, 0.0000,\n",
       "           0.0000, 0.0000, 0.0000, 0.0000, 0.0000, 0.0000, 0.0000, 0.0000,\n",
       "           0.0000, 0.0000, 0.0000, 0.0000],\n",
       "          [0.0000, 0.0000, 0.0000, 0.0000, 0.0000, 0.0000, 0.0000, 0.0000,\n",
       "           0.0000, 0.0000, 0.0000, 0.0000, 0.0000, 0.0000, 0.0000, 0.0000,\n",
       "           0.0000, 0.0000, 0.0000, 0.0000, 0.0000, 0.0000, 0.0000, 0.0000,\n",
       "           0.0000, 0.0000, 0.0000, 0.0000],\n",
       "          [0.0000, 0.0000, 0.0000, 0.0000, 0.0000, 0.0000, 0.0000, 0.0000,\n",
       "           0.0000, 0.0000, 0.0000, 0.0000, 0.0000, 0.0000, 0.0000, 0.0000,\n",
       "           0.0000, 0.0000, 0.0000, 0.0000, 0.0000, 0.0000, 0.0000, 0.0000,\n",
       "           0.0000, 0.0000, 0.0000, 0.0000],\n",
       "          [0.0000, 0.0000, 0.0000, 0.0000, 0.0000, 0.0000, 0.0000, 0.0000,\n",
       "           0.0000, 0.0000, 0.0000, 0.0000, 0.0039, 0.0000, 0.0000, 0.0510,\n",
       "           0.2863, 0.0000, 0.0000, 0.0039, 0.0157, 0.0000, 0.0000, 0.0000,\n",
       "           0.0000, 0.0039, 0.0039, 0.0000],\n",
       "          [0.0000, 0.0000, 0.0000, 0.0000, 0.0000, 0.0000, 0.0000, 0.0000,\n",
       "           0.0000, 0.0000, 0.0000, 0.0000, 0.0118, 0.0000, 0.1412, 0.5333,\n",
       "           0.4980, 0.2431, 0.2118, 0.0000, 0.0000, 0.0000, 0.0039, 0.0118,\n",
       "           0.0157, 0.0000, 0.0000, 0.0118],\n",
       "          [0.0000, 0.0000, 0.0000, 0.0000, 0.0000, 0.0000, 0.0000, 0.0000,\n",
       "           0.0000, 0.0000, 0.0000, 0.0000, 0.0235, 0.0000, 0.4000, 0.8000,\n",
       "           0.6902, 0.5255, 0.5647, 0.4824, 0.0902, 0.0000, 0.0000, 0.0000,\n",
       "           0.0000, 0.0471, 0.0392, 0.0000],\n",
       "          [0.0000, 0.0000, 0.0000, 0.0000, 0.0000, 0.0000, 0.0000, 0.0000,\n",
       "           0.0000, 0.0000, 0.0000, 0.0000, 0.0000, 0.0000, 0.6078, 0.9255,\n",
       "           0.8118, 0.6980, 0.4196, 0.6118, 0.6314, 0.4275, 0.2510, 0.0902,\n",
       "           0.3020, 0.5098, 0.2824, 0.0588],\n",
       "          [0.0000, 0.0000, 0.0000, 0.0000, 0.0000, 0.0000, 0.0000, 0.0000,\n",
       "           0.0000, 0.0000, 0.0000, 0.0039, 0.0000, 0.2706, 0.8118, 0.8745,\n",
       "           0.8549, 0.8471, 0.8471, 0.6392, 0.4980, 0.4745, 0.4784, 0.5725,\n",
       "           0.5529, 0.3451, 0.6745, 0.2588],\n",
       "          [0.0000, 0.0000, 0.0000, 0.0000, 0.0000, 0.0000, 0.0000, 0.0000,\n",
       "           0.0000, 0.0039, 0.0039, 0.0039, 0.0000, 0.7843, 0.9098, 0.9098,\n",
       "           0.9137, 0.8980, 0.8745, 0.8745, 0.8431, 0.8353, 0.6431, 0.4980,\n",
       "           0.4824, 0.7686, 0.8980, 0.0000],\n",
       "          [0.0000, 0.0000, 0.0000, 0.0000, 0.0000, 0.0000, 0.0000, 0.0000,\n",
       "           0.0000, 0.0000, 0.0000, 0.0000, 0.0000, 0.7176, 0.8824, 0.8471,\n",
       "           0.8745, 0.8941, 0.9216, 0.8902, 0.8784, 0.8706, 0.8784, 0.8667,\n",
       "           0.8745, 0.9608, 0.6784, 0.0000],\n",
       "          [0.0000, 0.0000, 0.0000, 0.0000, 0.0000, 0.0000, 0.0000, 0.0000,\n",
       "           0.0000, 0.0000, 0.0000, 0.0000, 0.0000, 0.7569, 0.8941, 0.8549,\n",
       "           0.8353, 0.7765, 0.7059, 0.8314, 0.8235, 0.8275, 0.8353, 0.8745,\n",
       "           0.8627, 0.9529, 0.7922, 0.0000],\n",
       "          [0.0000, 0.0000, 0.0000, 0.0000, 0.0000, 0.0000, 0.0000, 0.0000,\n",
       "           0.0000, 0.0039, 0.0118, 0.0000, 0.0471, 0.8588, 0.8627, 0.8314,\n",
       "           0.8549, 0.7529, 0.6627, 0.8902, 0.8157, 0.8549, 0.8784, 0.8314,\n",
       "           0.8863, 0.7725, 0.8196, 0.2039],\n",
       "          [0.0000, 0.0000, 0.0000, 0.0000, 0.0000, 0.0000, 0.0000, 0.0000,\n",
       "           0.0000, 0.0000, 0.0235, 0.0000, 0.3882, 0.9569, 0.8706, 0.8627,\n",
       "           0.8549, 0.7961, 0.7765, 0.8667, 0.8431, 0.8353, 0.8706, 0.8627,\n",
       "           0.9608, 0.4667, 0.6549, 0.2196],\n",
       "          [0.0000, 0.0000, 0.0000, 0.0000, 0.0000, 0.0000, 0.0000, 0.0000,\n",
       "           0.0000, 0.0157, 0.0000, 0.0000, 0.2157, 0.9255, 0.8941, 0.9020,\n",
       "           0.8941, 0.9412, 0.9098, 0.8353, 0.8549, 0.8745, 0.9176, 0.8510,\n",
       "           0.8510, 0.8196, 0.3608, 0.0000],\n",
       "          [0.0000, 0.0000, 0.0039, 0.0157, 0.0235, 0.0275, 0.0078, 0.0000,\n",
       "           0.0000, 0.0000, 0.0000, 0.0000, 0.9294, 0.8863, 0.8510, 0.8745,\n",
       "           0.8706, 0.8588, 0.8706, 0.8667, 0.8471, 0.8745, 0.8980, 0.8431,\n",
       "           0.8549, 1.0000, 0.3020, 0.0000],\n",
       "          [0.0000, 0.0118, 0.0000, 0.0000, 0.0000, 0.0000, 0.0000, 0.0000,\n",
       "           0.0000, 0.2431, 0.5686, 0.8000, 0.8941, 0.8118, 0.8353, 0.8667,\n",
       "           0.8549, 0.8157, 0.8275, 0.8549, 0.8784, 0.8745, 0.8588, 0.8431,\n",
       "           0.8784, 0.9569, 0.6235, 0.0000],\n",
       "          [0.0000, 0.0000, 0.0000, 0.0000, 0.0706, 0.1725, 0.3216, 0.4196,\n",
       "           0.7412, 0.8941, 0.8627, 0.8706, 0.8510, 0.8863, 0.7843, 0.8039,\n",
       "           0.8275, 0.9020, 0.8784, 0.9176, 0.6902, 0.7373, 0.9804, 0.9725,\n",
       "           0.9137, 0.9333, 0.8431, 0.0000],\n",
       "          [0.0000, 0.2235, 0.7333, 0.8157, 0.8784, 0.8667, 0.8784, 0.8157,\n",
       "           0.8000, 0.8392, 0.8157, 0.8196, 0.7843, 0.6235, 0.9608, 0.7569,\n",
       "           0.8078, 0.8745, 1.0000, 1.0000, 0.8667, 0.9176, 0.8667, 0.8275,\n",
       "           0.8627, 0.9098, 0.9647, 0.0000],\n",
       "          [0.0118, 0.7922, 0.8941, 0.8784, 0.8667, 0.8275, 0.8275, 0.8392,\n",
       "           0.8039, 0.8039, 0.8039, 0.8627, 0.9412, 0.3137, 0.5882, 1.0000,\n",
       "           0.8980, 0.8667, 0.7373, 0.6039, 0.7490, 0.8235, 0.8000, 0.8196,\n",
       "           0.8706, 0.8941, 0.8824, 0.0000],\n",
       "          [0.3843, 0.9137, 0.7765, 0.8235, 0.8706, 0.8980, 0.8980, 0.9176,\n",
       "           0.9765, 0.8627, 0.7608, 0.8431, 0.8510, 0.9451, 0.2549, 0.2863,\n",
       "           0.4157, 0.4588, 0.6588, 0.8588, 0.8667, 0.8431, 0.8510, 0.8745,\n",
       "           0.8745, 0.8784, 0.8980, 0.1137],\n",
       "          [0.2941, 0.8000, 0.8314, 0.8000, 0.7569, 0.8039, 0.8275, 0.8824,\n",
       "           0.8471, 0.7255, 0.7725, 0.8078, 0.7765, 0.8353, 0.9412, 0.7647,\n",
       "           0.8902, 0.9608, 0.9373, 0.8745, 0.8549, 0.8314, 0.8196, 0.8706,\n",
       "           0.8627, 0.8667, 0.9020, 0.2627],\n",
       "          [0.1882, 0.7961, 0.7176, 0.7608, 0.8353, 0.7725, 0.7255, 0.7451,\n",
       "           0.7608, 0.7529, 0.7922, 0.8392, 0.8588, 0.8667, 0.8627, 0.9255,\n",
       "           0.8824, 0.8471, 0.7804, 0.8078, 0.7294, 0.7098, 0.6941, 0.6745,\n",
       "           0.7098, 0.8039, 0.8078, 0.4510],\n",
       "          [0.0000, 0.4784, 0.8588, 0.7569, 0.7020, 0.6706, 0.7176, 0.7686,\n",
       "           0.8000, 0.8235, 0.8353, 0.8118, 0.8275, 0.8235, 0.7843, 0.7686,\n",
       "           0.7608, 0.7490, 0.7647, 0.7490, 0.7765, 0.7529, 0.6902, 0.6118,\n",
       "           0.6549, 0.6941, 0.8235, 0.3608],\n",
       "          [0.0000, 0.0000, 0.2902, 0.7412, 0.8314, 0.7490, 0.6863, 0.6745,\n",
       "           0.6863, 0.7098, 0.7255, 0.7373, 0.7412, 0.7373, 0.7569, 0.7765,\n",
       "           0.8000, 0.8196, 0.8235, 0.8235, 0.8275, 0.7373, 0.7373, 0.7608,\n",
       "           0.7529, 0.8471, 0.6667, 0.0000],\n",
       "          [0.0078, 0.0000, 0.0000, 0.0000, 0.2588, 0.7843, 0.8706, 0.9294,\n",
       "           0.9373, 0.9490, 0.9647, 0.9529, 0.9569, 0.8667, 0.8627, 0.7569,\n",
       "           0.7490, 0.7020, 0.7137, 0.7137, 0.7098, 0.6902, 0.6510, 0.6588,\n",
       "           0.3882, 0.2275, 0.0000, 0.0000],\n",
       "          [0.0000, 0.0000, 0.0000, 0.0000, 0.0000, 0.0000, 0.0000, 0.1569,\n",
       "           0.2392, 0.1725, 0.2824, 0.1608, 0.1373, 0.0000, 0.0000, 0.0000,\n",
       "           0.0000, 0.0000, 0.0000, 0.0000, 0.0000, 0.0000, 0.0000, 0.0000,\n",
       "           0.0000, 0.0000, 0.0000, 0.0000],\n",
       "          [0.0000, 0.0000, 0.0000, 0.0000, 0.0000, 0.0000, 0.0000, 0.0000,\n",
       "           0.0000, 0.0000, 0.0000, 0.0000, 0.0000, 0.0000, 0.0000, 0.0000,\n",
       "           0.0000, 0.0000, 0.0000, 0.0000, 0.0000, 0.0000, 0.0000, 0.0000,\n",
       "           0.0000, 0.0000, 0.0000, 0.0000],\n",
       "          [0.0000, 0.0000, 0.0000, 0.0000, 0.0000, 0.0000, 0.0000, 0.0000,\n",
       "           0.0000, 0.0000, 0.0000, 0.0000, 0.0000, 0.0000, 0.0000, 0.0000,\n",
       "           0.0000, 0.0000, 0.0000, 0.0000, 0.0000, 0.0000, 0.0000, 0.0000,\n",
       "           0.0000, 0.0000, 0.0000, 0.0000]]]),\n",
       " 9)"
      ]
     },
     "execution_count": 18,
     "metadata": {},
     "output_type": "execute_result"
    }
   ],
   "source": [
    "image, label = train_data[0]\n",
    "image, label"
   ]
  },
  {
   "cell_type": "markdown",
   "id": "5a1b8479-fc14-4d2d-a2f9-2214db9fd63e",
   "metadata": {},
   "source": [
    "### 1.1 shape 확인"
   ]
  },
  {
   "cell_type": "code",
   "execution_count": 25,
   "id": "cdac8038-6caf-47b1-a2e9-f5daebf34e60",
   "metadata": {},
   "outputs": [
    {
     "name": "stdout",
     "output_type": "stream",
     "text": [
      "torch.Size([1, 28, 28])\n",
      "60000 60000 10000 10000\n"
     ]
    }
   ],
   "source": [
    "print(image.shape)\n",
    "print(len(train_data.data), len(train_data.targets), len(test_data.data), len(test_data.targets))"
   ]
  },
  {
   "cell_type": "markdown",
   "id": "028635aa-2b0c-4463-8cb0-0f546f3a6237",
   "metadata": {},
   "source": [
    "![example input and output shapes of the fashionMNIST problem](https://raw.githubusercontent.com/mrdbourke/pytorch-deep-learning/main/images/03-computer-vision-input-and-output-shapes.png)\n",
    "\n",
    "현재 이미지의 형태는 [1, 28, 28] 로 나온다. 이말은 채널이 하나(흑백 이미지), 28 X 28 픽셀 이미지라는 의미이다. <br>\n",
    "만약 채널이 3이라면 RGB일 확률이 높다. <br>\n",
    "이미지는 CHW(채널 우선)과 HWC(채널 마지막) 이 두 방식중 어떻게 표현할지는 여러 논의가 있다. <br>\n",
    "PyTorch는 일반적으로 CHW으로 채널 우선을 기본값으로 사용한다. \n"
   ]
  },
  {
   "cell_type": "code",
   "execution_count": 35,
   "id": "5503de59-2ee5-4c21-b75a-3053f7247855",
   "metadata": {},
   "outputs": [
    {
     "name": "stdout",
     "output_type": "stream",
     "text": [
      "['T-shirt/top', 'Trouser', 'Pullover', 'Dress', 'Coat', 'Sandal', 'Shirt', 'Sneaker', 'Bag', 'Ankle boot']\n"
     ]
    }
   ],
   "source": [
    "# 어떤 클래스가 있는지 확인하기 \n",
    "\n",
    "print(train_data.classes)\n",
    "class_name = train_data.classes"
   ]
  },
  {
   "cell_type": "code",
   "execution_count": 36,
   "id": "87e9784d-d110-4b03-a998-4e4c350631c4",
   "metadata": {},
   "outputs": [
    {
     "data": {
      "image/png": "[encoded data removed]",
      "text/plain": [
       "<Figure size 640x480 with 1 Axes>"
      ]
     },
     "metadata": {},
     "output_type": "display_data"
    }
   ],
   "source": [
    "# 데이터 시각화하기 \n",
    "\n",
    "image, label = train_data[0]\n",
    "plt.imshow(image.squeeze(), cmap='gray')\n",
    "plt.title(class_name[label])\n",
    "plt.show()"
   ]
  },
  {
   "cell_type": "markdown",
   "id": "8c55e0b1-bfca-419c-974b-b8c055fcbfa8",
   "metadata": {},
   "source": [
    "## 2. DataLoader 준비하기 \n",
    "\n",
    "데이터셋을 불러오고 다음 단계는 데이터를 로딩 가능한 형태로 준비하는 것이다. \n",
    "\n",
    "**DataLoader**란\n",
    "사이즈가 큰 단일 데이터셋을 배치 단위로 나눠서 iterable 객체로 바꿔준다. \n",
    "\n",
    "Q. 왜 배치로 나눠서 학습할까? <br>\n",
    "A. 데이터를 나눠서 조금씩 학습하는게 계산 효율성도 좋고 메모리 부담도 줄인다. <br> 학습 업데이트 속도도 빠르기 때문에 개선 속도가 빠르다. \n",
    "\n",
    "적절한 배치사이즈는 2의 거듭제곱 값을 사용하고, 일반적으로 32부터 시작한다. "
   ]
  },
  {
   "cell_type": "code",
   "execution_count": 37,
   "id": "c8a64f8c-24f0-4bf4-a2de-246f5a768a09",
   "metadata": {},
   "outputs": [
    {
     "name": "stdout",
     "output_type": "stream",
     "text": [
      "Dataloaders: (<torch.utils.data.dataloader.DataLoader object at 0x7f32701a0bb0>, <torch.utils.data.dataloader.DataLoader object at 0x7f32701a0b50>)\n",
      "Length of train dataloader: 1875 batches of 32\n",
      "Length of test dataloader: 313 batches of 32\n"
     ]
    },
    {
     "data": {
      "text/plain": [
       "(torch.Size([32, 1, 28, 28]), torch.Size([32]))"
      ]
     },
     "execution_count": 37,
     "metadata": {},
     "output_type": "execute_result"
    }
   ],
   "source": [
    "BATCH_SIZE = 32\n",
    "\n",
    "train_dataloader = DataLoader(\n",
    "    train_data,\n",
    "    batch_size = BATCH_SIZE,\n",
    "    shuffle = True # 매 에폭마다 데이터를 섞을까?\n",
    ")\n",
    "\n",
    "test_dataloader = DataLoader(\n",
    "    test_data,\n",
    "    batch_size = BATCH_SIZE,\n",
    "    shuffle = False # test데이터는 셔플이 필수는 아님\n",
    ")\n",
    "\n",
    "print(f\"Dataloaders: {train_dataloader, test_dataloader}\") \n",
    "print(f\"Length of train dataloader: {len(train_dataloader)} batches of {BATCH_SIZE}\")\n",
    "print(f\"Length of test dataloader: {len(test_dataloader)} batches of {BATCH_SIZE}\")\n",
    "\n",
    "# train_dataloader 안에 무엇이 있는지 확인해보기\n",
    "train_features_batch, train_labels_batch = next(iter(train_dataloader))\n",
    "train_features_batch.shape, train_labels_batch.shape\n",
    "\n",
    "# next()와 iter() 는 파이썬 내장함수로 iterator를 다룰 때 사용하는 표준적인 방법\n",
    "# iter(obj) : 반복 가능한 객체(iterable)를 iterator로 변환\n",
    "# next(iterator) : 이터레이터에서 다음 항목을 반환"
   ]
  },
  {
   "cell_type": "markdown",
   "id": "1497861f-a491-4fe1-90c0-41c77ef237ee",
   "metadata": {},
   "source": [
    "## 3. baseline model 만들기\n",
    "\n",
    "두개의 레이어를 갖는 기본 모델을 만들고자 함\n",
    "\n",
    "nn.Flatten() 사용해서 다차원 텐서를 1차원 벡터로 펼쳐준다. \n"
   ]
  },
  {
   "cell_type": "code",
   "execution_count": 38,
   "id": "768df5d8-ea63-4b8a-9341-59aa7ea28dc1",
   "metadata": {},
   "outputs": [
    {
     "name": "stdout",
     "output_type": "stream",
     "text": [
      "Shape before flattening: torch.Size([1, 28, 28]) -> [color_channels, height, width]\n",
      "Shape after flattening: torch.Size([1, 784]) -> [color_channels, height*width]\n"
     ]
    }
   ],
   "source": [
    "flatten_model = nn.Flatten()\n",
    "\n",
    "x = train_features_batch[0]\n",
    "\n",
    "output = flatten_model(x)\n",
    "\n",
    "print(f\"Shape before flattening: {x.shape} -> [color_channels, height, width]\")\n",
    "print(f\"Shape after flattening: {output.shape} -> [color_channels, height*width]\")"
   ]
  },
  {
   "cell_type": "code",
   "execution_count": 40,
   "id": "057a6d68-e422-4fcd-b3e9-61792db2f8d2",
   "metadata": {},
   "outputs": [],
   "source": [
    "class FashionMNISTModelV0(nn.Module):\n",
    "    def __init__(self, input_shape:int, hidden_units: int, output_shape:int):\n",
    "        super().__init__()\n",
    "        self.layer_flatten = nn.Flatten()\n",
    "        self.layer_1 = nn.Linear(in_features=input_shape, out_features=hidden_units)\n",
    "        self.layer_2 = nn.Linear(in_features=hidden_units, out_features=output_shape)\n",
    "\n",
    "    def forward(self, x):\n",
    "        x = self.layer_flatten(x)\n",
    "        x = self.layer_1(x)\n",
    "        x = self.layer_2(x)\n",
    "        return x"
   ]
  },
  {
   "cell_type": "code",
   "execution_count": 41,
   "id": "1c736172-edde-4b2b-8bb0-0d2ff4d2ab0c",
   "metadata": {},
   "outputs": [],
   "source": [
    "torch.manual_seed(42)\n",
    "\n",
    "model_0 = FashionMNISTModelV0(\n",
    "    input_shape = 784, \n",
    "    hidden_units = 10,\n",
    "    output_shape = len(class_name)\n",
    ")\n",
    "\n"
   ]
  },
  {
   "cell_type": "code",
   "execution_count": 42,
   "id": "ef16788d-a647-46c8-a2a6-d4e277ddad3e",
   "metadata": {},
   "outputs": [
    {
     "name": "stdout",
     "output_type": "stream",
     "text": [
      "Downloading helper_functions.py\n"
     ]
    }
   ],
   "source": [
    "import requests\n",
    "from pathlib import Path \n",
    "\n",
    "# Download helper functions from Learn PyTorch repo (if not already downloaded)\n",
    "if Path(\"helper_functions.py\").is_file():\n",
    "  print(\"helper_functions.py already exists, skipping download\")\n",
    "else:\n",
    "  print(\"Downloading helper_functions.py\")\n",
    "  # Note: you need the \"raw\" GitHub URL for this to work\n",
    "  request = requests.get(\"https://raw.githubusercontent.com/mrdbourke/pytorch-deep-learning/main/helper_functions.py\")\n",
    "  with open(\"helper_functions.py\", \"wb\") as f:\n",
    "    f.write(request.content)"
   ]
  },
  {
   "cell_type": "code",
   "execution_count": 43,
   "id": "fd0c1536-fc13-4d40-9cc3-8b7bd57341c9",
   "metadata": {},
   "outputs": [],
   "source": [
    "# Import accuracy metric\n",
    "from helper_functions import accuracy_fn # Note: could also use torchmetrics.Accuracy(task = 'multiclass', num_classes=len(class_names)).to(device)\n",
    "\n",
    "# Setup loss function and optimizer\n",
    "loss_fn = nn.CrossEntropyLoss() # this is also called \"criterion\"/\"cost function\" in some places\n",
    "optimizer = torch.optim.SGD(params=model_0.parameters(), lr=0.1)"
   ]
  },
  {
   "cell_type": "code",
   "execution_count": 45,
   "id": "e07e0445-8f9c-4d00-bea0-cb6da7e34f33",
   "metadata": {},
   "outputs": [],
   "source": [
    "# CPU와 GPU에서의 학습 속도를 비교하는 타이머 함수\n",
    "\n",
    "from timeit import default_timer as timer \n",
    "def print_train_time(start: float, end: float, device: torch.device = None):\n",
    "    \"\"\"시작 시간과 종료 시간의 차이 출력\n",
    "\n",
    "    Args:\n",
    "        start (float) : 연산 시작 시간 (timeit 포맷)\n",
    "        end (float) : 연산 종료 시간\n",
    "        device ([type], optional) : 연산이 동작하고 있는 디바이스\n",
    "\n",
    "    Returns:\n",
    "        float: 초단위의 시작 시간과 종료시간의 차이 (수가 큰게 더 긴 것)\n",
    "    \"\"\"\n",
    "    total_time = end - start\n",
    "    print(f\"Train time on {device}: {total_time:.3f} seconds\")\n",
    "    return total_time"
   ]
  },
  {
   "cell_type": "markdown",
   "id": "adaeecb2-61fe-4ee8-a1ce-4a86f0ef6d48",
   "metadata": {},
   "source": [
    "### 3.3 훈련 루프 및 배치 데이터 기반 모델 훈련\n",
    "\n",
    "지금까지의 과정 :데이터, 데이터로더 -> 모델 -> 손실함수 -> 옵티마이저 -> 정확도 함수 ->  타이머 함수 \n",
    "\n"
   ]
  },
  {
   "cell_type": "code",
   "execution_count": 48,
   "id": "00f2fffd-7eb8-4dd9-8e17-0f005298b76c",
   "metadata": {},
   "outputs": [
    {
     "name": "stdout",
     "output_type": "stream",
     "text": [
      "Epoch: 0\n",
      "-------\n",
      "Looked at 0/60000 samples\n",
      "Looked at 12800/60000 samples\n",
      "Looked at 25600/60000 samples\n",
      "Looked at 38400/60000 samples\n",
      "Looked at 51200/60000 samples\n",
      "Epoch: 1\n",
      "-------\n",
      "Looked at 0/60000 samples\n",
      "Looked at 12800/60000 samples\n",
      "Looked at 25600/60000 samples\n",
      "Looked at 38400/60000 samples\n",
      "Looked at 51200/60000 samples\n",
      "Epoch: 2\n",
      "-------\n",
      "Looked at 0/60000 samples\n",
      "Looked at 12800/60000 samples\n",
      "Looked at 25600/60000 samples\n",
      "Looked at 38400/60000 samples\n",
      "Looked at 51200/60000 samples\n",
      "\n",
      "Train loss: 0.45503 | Test loss: 0.47664, Test acc: 83.43%\n",
      "\n",
      "Train time on cpu: 21.723 seconds\n"
     ]
    }
   ],
   "source": [
    "from tqdm.auto import tqdm\n",
    "\n",
    "torch.manual_seed(42)\n",
    "train_time_start_on_cpu = timer()\n",
    "\n",
    "epochs = 3\n",
    "\n",
    "for epoch in range(epochs):\n",
    "    print(f\"Epoch: {epoch}\\n-------\")\n",
    "\n",
    "    train_loss = 0\n",
    "\n",
    "    for batch, (X, y) in enumerate(train_dataloader):\n",
    "        model_0.train()\n",
    "\n",
    "        y_pred = model_0(X)\n",
    "\n",
    "        loss = loss_fn(y_pred, y)\n",
    "        train_loss += loss\n",
    "\n",
    "        optimizer.zero_grad()\n",
    "\n",
    "        loss.backward()\n",
    "        optimizer.step()\n",
    "\n",
    "        if batch%400 == 0:\n",
    "            print(f\"Looked at {batch * len(X)}/{len(train_dataloader.dataset)} samples\")\n",
    "\n",
    "    train_loss /= len(train_dataloader)\n",
    "\n",
    "    test_loss, test_acc = 0, 0\n",
    "    model_0.eval()\n",
    "    with torch.inference_mode():\n",
    "        for X, y in test_dataloader:\n",
    "\n",
    "            test_pred = model_0(X)\n",
    "            test_loss += loss_fn(test_pred, y)\n",
    "\n",
    "            test_acc += accuracy_fn(y_true=y, y_pred=test_pred.argmax(dim=1))\n",
    "\n",
    "        test_loss /= len(test_dataloader)\n",
    "        test_acc /= len(test_dataloader)\n",
    "\n",
    "print(f\"\\nTrain loss: {train_loss:.5f} | Test loss: {test_loss:.5f}, Test acc: {test_acc:.2f}%\\n\")\n",
    "\n",
    "# Calculate training time      \n",
    "train_time_end_on_cpu = timer()\n",
    "total_train_time_model_0 = print_train_time(start=train_time_start_on_cpu, \n",
    "                                           end=train_time_end_on_cpu,\n",
    "                                           device=str(next(model_0.parameters()).device))"
   ]
  },
  {
   "cell_type": "markdown",
   "id": "d090e282-3073-458e-9354-d9a48aad1895",
   "metadata": {},
   "source": [
    "## 4. 베이스라인 예측 결과 \n",
    "\n",
    "여러 모델을 만들어서 비교할 예정이라면 모델을 평가하는 함수를 만드는 것이 좋다. "
   ]
  },
  {
   "cell_type": "code",
   "execution_count": 50,
   "id": "6eb13974-1423-4898-84e5-96f6ed09354f",
   "metadata": {},
   "outputs": [
    {
     "data": {
      "text/plain": [
       "{'model_name': 'FashionMNISTModelV0',\n",
       " 'model_loss': 0.47663888335227966,\n",
       " 'model_acc': 83.42651757188499}"
      ]
     },
     "execution_count": 50,
     "metadata": {},
     "output_type": "execute_result"
    }
   ],
   "source": [
    "torch.manual_seed(42) \n",
    "\n",
    "# argument에' ':' 이거는 type hint\n",
    "def eval_model(model: torch.nn.Module,\n",
    "               data_loader: torch.utils.data.DataLoader,\n",
    "               loss_fn: torch.nn.Module,\n",
    "               accuracy_fn):\n",
    "    loss, acc = 0, 0\n",
    "    model.eval()\n",
    "    with torch.inference_mode():\n",
    "        for X, y in data_loader:\n",
    "            y_pred = model(X)\n",
    "\n",
    "            loss += loss_fn(y_pred, y)\n",
    "            acc += accuracy_fn(y_true=y, y_pred=y_pred.argmax(dim=1))\n",
    "\n",
    "        loss /= len(data_loader)\n",
    "        acc /= len(data_loader)\n",
    "\n",
    "    return {\"model_name\": model.__class__.__name__,\n",
    "            \"model_loss\": loss.item(),\n",
    "            \"model_acc\": acc}\n",
    "\n",
    "# Calculate model 0 results on test dataset\n",
    "model_0_results = eval_model(model=model_0, data_loader=test_dataloader,\n",
    "    loss_fn=loss_fn, accuracy_fn=accuracy_fn\n",
    ")\n",
    "model_0_results"
   ]
  },
  {
   "cell_type": "markdown",
   "id": "c49c669a-135e-40f4-b7d0-5dba0e0aedc6",
   "metadata": {},
   "source": [
    "## 5. device setting"
   ]
  },
  {
   "cell_type": "code",
   "execution_count": 52,
   "id": "b5ffa134-1a7c-4c5d-9afc-84022fe513a8",
   "metadata": {},
   "outputs": [
    {
     "data": {
      "text/plain": [
       "'cuda'"
      ]
     },
     "execution_count": 52,
     "metadata": {},
     "output_type": "execute_result"
    }
   ],
   "source": [
    "device = \"cuda\" if torch.cuda.is_available() else \"cpu\"\n",
    "device"
   ]
  },
  {
   "cell_type": "markdown",
   "id": "32b585be-5f99-4e78-b5a3-7817134a763c",
   "metadata": {},
   "source": [
    "## 6. 비선형성이 추가된 모델 만들기\n",
    "\n",
    "선형은 직선을 의미하고 비선형은 일직선이 아님을 의미한다. \n",
    "이번에 비선형 함수인 nn.ReLU()을 각 레이어 사이에 추가하여 모델을 만들어 보자.\n"
   ]
  },
  {
   "cell_type": "code",
   "execution_count": 58,
   "id": "1e7163bb-9700-4b0e-8977-c4545b6aeaf4",
   "metadata": {},
   "outputs": [],
   "source": [
    "\n",
    "class FashionMNISTModelV1(nn.Module):\n",
    "    def __init__(self, input_shape, hidden_units, output_shape):\n",
    "        super().__init__()\n",
    "        self.layer_flatten = nn.Flatten()\n",
    "        self.layer_1 = nn.Linear(in_features = input_shape, out_features = hidden_units)\n",
    "        self.relu_1 = nn.ReLU()\n",
    "        self.layer_2 = nn.Linear(in_features = hidden_units, out_features = output_shape)\n",
    "        self.relu_2 = nn.ReLU()\n",
    "\n",
    "    def forward(self, x):\n",
    "        x = self.layer_flatten(x)\n",
    "        x = self.layer_1(x)\n",
    "        x = self.relu_1(x)\n",
    "        x = self.layer_2(x)\n",
    "        x = self.relu_2(x)\n",
    "        \n",
    "        return x"
   ]
  },
  {
   "cell_type": "code",
   "execution_count": 59,
   "id": "6b08ac25-e569-447a-89c9-1920e2b180ca",
   "metadata": {},
   "outputs": [
    {
     "data": {
      "text/plain": [
       "device(type='cuda', index=0)"
      ]
     },
     "execution_count": 59,
     "metadata": {},
     "output_type": "execute_result"
    }
   ],
   "source": [
    "torch.manual_seed(42)\n",
    "\n",
    "model_1 = FashionMNISTModelV1(input_shape = 784,\n",
    "                              hidden_units = 10, \n",
    "                             output_shape = len(class_name)).to(device)\n",
    "\n",
    "next(model_1.parameters()).device # 모델 디바이스 확인\n",
    "                            "
   ]
  },
  {
   "cell_type": "code",
   "execution_count": 60,
   "id": "34436c8f-9c53-4d36-aa79-8243d23d4be7",
   "metadata": {},
   "outputs": [],
   "source": [
    "# 로스 함수, 옵티마이저, 평가 메트릭 설정\n",
    "\n",
    "from helper_functions import accuracy_fn\n",
    "\n",
    "loss_fn = nn.CrossEntropyLoss()\n",
    "optimizer = torch.optim.SGD(params = model_1.parameters(),\n",
    "                            lr=0.1)\n"
   ]
  },
  {
   "cell_type": "markdown",
   "id": "1e7f1b1c-232f-498c-9c07-45cbf932bab6",
   "metadata": {},
   "source": [
    "### 6.2 기존 train loop 와 test loop를 함수화하기\n",
    "\n",
    "기존의 for문을 이용해서 루프를 돌리는 것보다 함수화하면 재사용할 수 있고 다양한 모델을 실험할 때 편리함"
   ]
  },
  {
   "cell_type": "code",
   "execution_count": 89,
   "id": "ee837aaa-2fa9-4fc1-9d3b-e6ebeaaa6454",
   "metadata": {},
   "outputs": [],
   "source": [
    "\n",
    "def train_step(model: nn.Module,\n",
    "              data_loader: torch.utils.data.DataLoader,\n",
    "              loss_fn: torch.nn.Module,\n",
    "              optimizer: torch.optim.Optimizer,\n",
    "              accuracy_fn,\n",
    "              device: torch.device = device):\n",
    "\n",
    "    train_loss, train_acc = 0, 0\n",
    "    model.to(device)\n",
    "\n",
    "    for batch, (X, y) in enumerate(data_loader):\n",
    "        X, y = X.to(device), y.to(device) # 사용할 데이터를 사용 가능한 device로 옮기기\n",
    "\n",
    "        y_pred = model(X)\n",
    "\n",
    "        loss = loss_fn(y_pred, y) # pytor에서는 (input, target) 순이 일반적, tensorflow와는 반대\n",
    "        train_loss += loss\n",
    "        train_acc += accuracy_fn(y_true = y, y_pred = y_pred.argmax(dim=1)) #CrossEntropyLoss를 쓰면 모델이 logits 형태([B, C])로 나오기 때문에 argmax(dim=1)을 사용하면 가장 큰 값의 인덱스를 반환\n",
    "\n",
    "        optimizer.zero_grad()\n",
    "        loss.backward()\n",
    "        optimizer.step()\n",
    "\n",
    "    train_loss /= len(data_loader)\n",
    "    train_acc /= len(data_loader)\n",
    "    print(f\"Train loss: {train_loss:.5f} | Train accuracy: {train_acc:.2f}%\")\n",
    "\n",
    "def test_step(model: nn.Module,\n",
    "              data_loader: torch.utils.data.DataLoader,\n",
    "              loss_fn: torch.nn.Module,\n",
    "              accuracy_fn,\n",
    "              device: torch.device = device):\n",
    "\n",
    "    test_loss, test_acc = 0, 0\n",
    "    model.to(device)\n",
    "\n",
    "    with torch.inference_mode():\n",
    "        for X, y in data_loader:\n",
    "            X, y = X.to(device), y.to(device) # 사용할 데이터를 사용 가능한 device로 옮기기\n",
    "    \n",
    "            test_pred = model(X)\n",
    "    \n",
    "            loss = loss_fn(test_pred, y) # pytor에서는 (input, target) 순이 일반적, tensorflow와는 반대\n",
    "            test_loss += loss\n",
    "            test_acc += accuracy_fn(y_true = y, y_pred = test_pred.argmax(dim=1)) #CrossEntropyLoss를 쓰면 모델이 logits 형태([B, C])로 나오기 때문에 argmax(dim=1)을 사용하면 가장 큰 값의 인덱스를 반환\n",
    "    \n",
    "    \n",
    "        test_loss /= len(data_loader)\n",
    "        test_acc /= len(data_loader)\n",
    "        print(f\"Test loss: {test_loss:.5f} | Test accuracy: {test_acc:.2f}%\")"
   ]
  },
  {
   "cell_type": "code",
   "execution_count": 68,
   "id": "d5b0d13c-b09f-49eb-a180-974685ff92e7",
   "metadata": {},
   "outputs": [
    {
     "data": {
      "application/vnd.jupyter.widget-view+json": {
       "model_id": "6f86d1c750ae4e0db3d58a9fdd661d84",
       "version_major": 2,
       "version_minor": 0
      },
      "text/plain": [
       "  0%|          | 0/3 [00:00<?, ?it/s]"
      ]
     },
     "metadata": {},
     "output_type": "display_data"
    },
    {
     "name": "stdout",
     "output_type": "stream",
     "text": [
      "Epoch: 0\n",
      "------------------------------------\n",
      "Train loss: 0.59716 | Train accuracy: 77.89%\n",
      "Train loss: 0.63200 | Train accuracy: 76.94%\n",
      "Epoch: 1\n",
      "------------------------------------\n",
      "Train loss: 0.59111 | Train accuracy: 78.13%\n",
      "Train loss: 0.63649 | Train accuracy: 76.77%\n",
      "Epoch: 2\n",
      "------------------------------------\n",
      "Train loss: 0.55725 | Train accuracy: 79.50%\n",
      "Train loss: 0.44730 | Train accuracy: 85.02%\n",
      "Train time on cuda: 21.447 seconds\n"
     ]
    }
   ],
   "source": [
    "torch.manual_seed(42)\n",
    "\n",
    "from timeit import default_timer as timer \n",
    "train_time_start_on_gpu = timer()\n",
    "\n",
    "epochs = 3\n",
    "\n",
    "for epoch in tqdm(range(epochs)):\n",
    "    print(f\"Epoch: {epoch}\")\n",
    "    print(\"---\"*12)\n",
    "    \n",
    "    train_step(model = model_1,\n",
    "              data_loader = train_dataloader,\n",
    "              loss_fn = loss_fn,\n",
    "              optimizer = optimizer,\n",
    "              accuracy_fn = accuracy_fn)\n",
    "\n",
    "    test_step(model = model_1,\n",
    "             data_loader = test_dataloader,\n",
    "             loss_fn = loss_fn,\n",
    "             accuracy_fn = accuracy_fn)\n",
    "\n",
    "train_time_end_on_gpu = timer()\n",
    "total_train_time_model_1 = print_train_time(start = train_time_start_on_gpu, end = train_time_end_on_gpu, device = device)"
   ]
  },
  {
   "cell_type": "markdown",
   "id": "14f5a2f4-a348-4d63-ad9b-ae7f0a49f35e",
   "metadata": {},
   "source": [
    "GPU를 사용하는게 항상 더 빠르지는 않다. \n",
    "\n",
    "-> 데이터셋과 모델 크기가 작을 경우 : GPU로 복사하는데 드는 시간(오버헤드)가 오히려 손해<br>\n",
    "-> 데이터 이동 병목 현산(보틀넥)\n",
    "\n",
    "어떤 하드웨어를 사용하냐에 따라 달라진다"
   ]
  },
  {
   "cell_type": "code",
   "execution_count": 69,
   "id": "571fffbb-c2fe-4514-88ac-143ed8991612",
   "metadata": {},
   "outputs": [
    {
     "ename": "RuntimeError",
     "evalue": "Expected all tensors to be on the same device, but found at least two devices, cuda:0 and cpu! (when checking argument for argument mat1 in method wrapper_CUDA_addmm)",
     "output_type": "error",
     "traceback": [
      "\u001b[0;31m---------------------------------------------------------------------------\u001b[0m",
      "\u001b[0;31mRuntimeError\u001b[0m                              Traceback (most recent call last)",
      "Cell \u001b[0;32mIn[69], line 3\u001b[0m\n\u001b[1;32m      1\u001b[0m torch\u001b[38;5;241m.\u001b[39mmanual_seed(\u001b[38;5;241m42\u001b[39m)\n\u001b[0;32m----> 3\u001b[0m model_1_results \u001b[38;5;241m=\u001b[39m \u001b[43meval_model\u001b[49m\u001b[43m(\u001b[49m\u001b[43mmodel\u001b[49m\u001b[38;5;241;43m=\u001b[39;49m\u001b[43mmodel_1\u001b[49m\u001b[43m,\u001b[49m\n\u001b[1;32m      4\u001b[0m \u001b[43m                            \u001b[49m\u001b[43mdata_loader\u001b[49m\u001b[43m \u001b[49m\u001b[38;5;241;43m=\u001b[39;49m\u001b[43m \u001b[49m\u001b[43mtest_dataloader\u001b[49m\u001b[43m,\u001b[49m\n\u001b[1;32m      5\u001b[0m \u001b[43m                            \u001b[49m\u001b[43mloss_fn\u001b[49m\u001b[43m \u001b[49m\u001b[38;5;241;43m=\u001b[39;49m\u001b[43m \u001b[49m\u001b[43mloss_fn\u001b[49m\u001b[43m,\u001b[49m\n\u001b[1;32m      6\u001b[0m \u001b[43m                            \u001b[49m\u001b[43maccuracy_fn\u001b[49m\u001b[43m \u001b[49m\u001b[38;5;241;43m=\u001b[39;49m\u001b[43m \u001b[49m\u001b[43maccuracy_fn\u001b[49m\u001b[43m)\u001b[49m\n\u001b[1;32m      8\u001b[0m model_1_results\n",
      "Cell \u001b[0;32mIn[50], line 12\u001b[0m, in \u001b[0;36meval_model\u001b[0;34m(model, data_loader, loss_fn, accuracy_fn)\u001b[0m\n\u001b[1;32m     10\u001b[0m \u001b[38;5;28;01mwith\u001b[39;00m torch\u001b[38;5;241m.\u001b[39minference_mode():\n\u001b[1;32m     11\u001b[0m     \u001b[38;5;28;01mfor\u001b[39;00m X, y \u001b[38;5;129;01min\u001b[39;00m data_loader:\n\u001b[0;32m---> 12\u001b[0m         y_pred \u001b[38;5;241m=\u001b[39m \u001b[43mmodel\u001b[49m\u001b[43m(\u001b[49m\u001b[43mX\u001b[49m\u001b[43m)\u001b[49m\n\u001b[1;32m     14\u001b[0m         loss \u001b[38;5;241m+\u001b[39m\u001b[38;5;241m=\u001b[39m loss_fn(y_pred, y)\n\u001b[1;32m     15\u001b[0m         acc \u001b[38;5;241m+\u001b[39m\u001b[38;5;241m=\u001b[39m accuracy_fn(y_true\u001b[38;5;241m=\u001b[39my, y_pred\u001b[38;5;241m=\u001b[39my_pred\u001b[38;5;241m.\u001b[39margmax(dim\u001b[38;5;241m=\u001b[39m\u001b[38;5;241m1\u001b[39m))\n",
      "File \u001b[0;32m~/miniconda3/envs/good/lib/python3.10/site-packages/torch/nn/modules/module.py:1532\u001b[0m, in \u001b[0;36mModule._wrapped_call_impl\u001b[0;34m(self, *args, **kwargs)\u001b[0m\n\u001b[1;32m   1530\u001b[0m     \u001b[38;5;28;01mreturn\u001b[39;00m \u001b[38;5;28mself\u001b[39m\u001b[38;5;241m.\u001b[39m_compiled_call_impl(\u001b[38;5;241m*\u001b[39margs, \u001b[38;5;241m*\u001b[39m\u001b[38;5;241m*\u001b[39mkwargs)  \u001b[38;5;66;03m# type: ignore[misc]\u001b[39;00m\n\u001b[1;32m   1531\u001b[0m \u001b[38;5;28;01melse\u001b[39;00m:\n\u001b[0;32m-> 1532\u001b[0m     \u001b[38;5;28;01mreturn\u001b[39;00m \u001b[38;5;28;43mself\u001b[39;49m\u001b[38;5;241;43m.\u001b[39;49m\u001b[43m_call_impl\u001b[49m\u001b[43m(\u001b[49m\u001b[38;5;241;43m*\u001b[39;49m\u001b[43margs\u001b[49m\u001b[43m,\u001b[49m\u001b[43m \u001b[49m\u001b[38;5;241;43m*\u001b[39;49m\u001b[38;5;241;43m*\u001b[39;49m\u001b[43mkwargs\u001b[49m\u001b[43m)\u001b[49m\n",
      "File \u001b[0;32m~/miniconda3/envs/good/lib/python3.10/site-packages/torch/nn/modules/module.py:1541\u001b[0m, in \u001b[0;36mModule._call_impl\u001b[0;34m(self, *args, **kwargs)\u001b[0m\n\u001b[1;32m   1536\u001b[0m \u001b[38;5;66;03m# If we don't have any hooks, we want to skip the rest of the logic in\u001b[39;00m\n\u001b[1;32m   1537\u001b[0m \u001b[38;5;66;03m# this function, and just call forward.\u001b[39;00m\n\u001b[1;32m   1538\u001b[0m \u001b[38;5;28;01mif\u001b[39;00m \u001b[38;5;129;01mnot\u001b[39;00m (\u001b[38;5;28mself\u001b[39m\u001b[38;5;241m.\u001b[39m_backward_hooks \u001b[38;5;129;01mor\u001b[39;00m \u001b[38;5;28mself\u001b[39m\u001b[38;5;241m.\u001b[39m_backward_pre_hooks \u001b[38;5;129;01mor\u001b[39;00m \u001b[38;5;28mself\u001b[39m\u001b[38;5;241m.\u001b[39m_forward_hooks \u001b[38;5;129;01mor\u001b[39;00m \u001b[38;5;28mself\u001b[39m\u001b[38;5;241m.\u001b[39m_forward_pre_hooks\n\u001b[1;32m   1539\u001b[0m         \u001b[38;5;129;01mor\u001b[39;00m _global_backward_pre_hooks \u001b[38;5;129;01mor\u001b[39;00m _global_backward_hooks\n\u001b[1;32m   1540\u001b[0m         \u001b[38;5;129;01mor\u001b[39;00m _global_forward_hooks \u001b[38;5;129;01mor\u001b[39;00m _global_forward_pre_hooks):\n\u001b[0;32m-> 1541\u001b[0m     \u001b[38;5;28;01mreturn\u001b[39;00m \u001b[43mforward_call\u001b[49m\u001b[43m(\u001b[49m\u001b[38;5;241;43m*\u001b[39;49m\u001b[43margs\u001b[49m\u001b[43m,\u001b[49m\u001b[43m \u001b[49m\u001b[38;5;241;43m*\u001b[39;49m\u001b[38;5;241;43m*\u001b[39;49m\u001b[43mkwargs\u001b[49m\u001b[43m)\u001b[49m\n\u001b[1;32m   1543\u001b[0m \u001b[38;5;28;01mtry\u001b[39;00m:\n\u001b[1;32m   1544\u001b[0m     result \u001b[38;5;241m=\u001b[39m \u001b[38;5;28;01mNone\u001b[39;00m\n",
      "Cell \u001b[0;32mIn[58], line 12\u001b[0m, in \u001b[0;36mFashionMNISTModelV1.forward\u001b[0;34m(self, x)\u001b[0m\n\u001b[1;32m     10\u001b[0m \u001b[38;5;28;01mdef\u001b[39;00m\u001b[38;5;250m \u001b[39m\u001b[38;5;21mforward\u001b[39m(\u001b[38;5;28mself\u001b[39m, x):\n\u001b[1;32m     11\u001b[0m     x \u001b[38;5;241m=\u001b[39m \u001b[38;5;28mself\u001b[39m\u001b[38;5;241m.\u001b[39mlayer_flatten(x)\n\u001b[0;32m---> 12\u001b[0m     x \u001b[38;5;241m=\u001b[39m \u001b[38;5;28;43mself\u001b[39;49m\u001b[38;5;241;43m.\u001b[39;49m\u001b[43mlayer_1\u001b[49m\u001b[43m(\u001b[49m\u001b[43mx\u001b[49m\u001b[43m)\u001b[49m\n\u001b[1;32m     13\u001b[0m     x \u001b[38;5;241m=\u001b[39m \u001b[38;5;28mself\u001b[39m\u001b[38;5;241m.\u001b[39mrelu_1(x)\n\u001b[1;32m     14\u001b[0m     x \u001b[38;5;241m=\u001b[39m \u001b[38;5;28mself\u001b[39m\u001b[38;5;241m.\u001b[39mlayer_2(x)\n",
      "File \u001b[0;32m~/miniconda3/envs/good/lib/python3.10/site-packages/torch/nn/modules/module.py:1532\u001b[0m, in \u001b[0;36mModule._wrapped_call_impl\u001b[0;34m(self, *args, **kwargs)\u001b[0m\n\u001b[1;32m   1530\u001b[0m     \u001b[38;5;28;01mreturn\u001b[39;00m \u001b[38;5;28mself\u001b[39m\u001b[38;5;241m.\u001b[39m_compiled_call_impl(\u001b[38;5;241m*\u001b[39margs, \u001b[38;5;241m*\u001b[39m\u001b[38;5;241m*\u001b[39mkwargs)  \u001b[38;5;66;03m# type: ignore[misc]\u001b[39;00m\n\u001b[1;32m   1531\u001b[0m \u001b[38;5;28;01melse\u001b[39;00m:\n\u001b[0;32m-> 1532\u001b[0m     \u001b[38;5;28;01mreturn\u001b[39;00m \u001b[38;5;28;43mself\u001b[39;49m\u001b[38;5;241;43m.\u001b[39;49m\u001b[43m_call_impl\u001b[49m\u001b[43m(\u001b[49m\u001b[38;5;241;43m*\u001b[39;49m\u001b[43margs\u001b[49m\u001b[43m,\u001b[49m\u001b[43m \u001b[49m\u001b[38;5;241;43m*\u001b[39;49m\u001b[38;5;241;43m*\u001b[39;49m\u001b[43mkwargs\u001b[49m\u001b[43m)\u001b[49m\n",
      "File \u001b[0;32m~/miniconda3/envs/good/lib/python3.10/site-packages/torch/nn/modules/module.py:1541\u001b[0m, in \u001b[0;36mModule._call_impl\u001b[0;34m(self, *args, **kwargs)\u001b[0m\n\u001b[1;32m   1536\u001b[0m \u001b[38;5;66;03m# If we don't have any hooks, we want to skip the rest of the logic in\u001b[39;00m\n\u001b[1;32m   1537\u001b[0m \u001b[38;5;66;03m# this function, and just call forward.\u001b[39;00m\n\u001b[1;32m   1538\u001b[0m \u001b[38;5;28;01mif\u001b[39;00m \u001b[38;5;129;01mnot\u001b[39;00m (\u001b[38;5;28mself\u001b[39m\u001b[38;5;241m.\u001b[39m_backward_hooks \u001b[38;5;129;01mor\u001b[39;00m \u001b[38;5;28mself\u001b[39m\u001b[38;5;241m.\u001b[39m_backward_pre_hooks \u001b[38;5;129;01mor\u001b[39;00m \u001b[38;5;28mself\u001b[39m\u001b[38;5;241m.\u001b[39m_forward_hooks \u001b[38;5;129;01mor\u001b[39;00m \u001b[38;5;28mself\u001b[39m\u001b[38;5;241m.\u001b[39m_forward_pre_hooks\n\u001b[1;32m   1539\u001b[0m         \u001b[38;5;129;01mor\u001b[39;00m _global_backward_pre_hooks \u001b[38;5;129;01mor\u001b[39;00m _global_backward_hooks\n\u001b[1;32m   1540\u001b[0m         \u001b[38;5;129;01mor\u001b[39;00m _global_forward_hooks \u001b[38;5;129;01mor\u001b[39;00m _global_forward_pre_hooks):\n\u001b[0;32m-> 1541\u001b[0m     \u001b[38;5;28;01mreturn\u001b[39;00m \u001b[43mforward_call\u001b[49m\u001b[43m(\u001b[49m\u001b[38;5;241;43m*\u001b[39;49m\u001b[43margs\u001b[49m\u001b[43m,\u001b[49m\u001b[43m \u001b[49m\u001b[38;5;241;43m*\u001b[39;49m\u001b[38;5;241;43m*\u001b[39;49m\u001b[43mkwargs\u001b[49m\u001b[43m)\u001b[49m\n\u001b[1;32m   1543\u001b[0m \u001b[38;5;28;01mtry\u001b[39;00m:\n\u001b[1;32m   1544\u001b[0m     result \u001b[38;5;241m=\u001b[39m \u001b[38;5;28;01mNone\u001b[39;00m\n",
      "File \u001b[0;32m~/miniconda3/envs/good/lib/python3.10/site-packages/torch/nn/modules/linear.py:116\u001b[0m, in \u001b[0;36mLinear.forward\u001b[0;34m(self, input)\u001b[0m\n\u001b[1;32m    115\u001b[0m \u001b[38;5;28;01mdef\u001b[39;00m\u001b[38;5;250m \u001b[39m\u001b[38;5;21mforward\u001b[39m(\u001b[38;5;28mself\u001b[39m, \u001b[38;5;28minput\u001b[39m: Tensor) \u001b[38;5;241m-\u001b[39m\u001b[38;5;241m>\u001b[39m Tensor:\n\u001b[0;32m--> 116\u001b[0m     \u001b[38;5;28;01mreturn\u001b[39;00m \u001b[43mF\u001b[49m\u001b[38;5;241;43m.\u001b[39;49m\u001b[43mlinear\u001b[49m\u001b[43m(\u001b[49m\u001b[38;5;28;43minput\u001b[39;49m\u001b[43m,\u001b[49m\u001b[43m \u001b[49m\u001b[38;5;28;43mself\u001b[39;49m\u001b[38;5;241;43m.\u001b[39;49m\u001b[43mweight\u001b[49m\u001b[43m,\u001b[49m\u001b[43m \u001b[49m\u001b[38;5;28;43mself\u001b[39;49m\u001b[38;5;241;43m.\u001b[39;49m\u001b[43mbias\u001b[49m\u001b[43m)\u001b[49m\n",
      "\u001b[0;31mRuntimeError\u001b[0m: Expected all tensors to be on the same device, but found at least two devices, cuda:0 and cpu! (when checking argument for argument mat1 in method wrapper_CUDA_addmm)"
     ]
    }
   ],
   "source": [
    "torch.manual_seed(42)\n",
    "\n",
    "model_1_results = eval_model(model=model_1,\n",
    "                            data_loader = test_dataloader,\n",
    "                            loss_fn = loss_fn,\n",
    "                            accuracy_fn = accuracy_fn)\n",
    "\n",
    "model_1_results"
   ]
  },
  {
   "cell_type": "markdown",
   "id": "5beaf4df-d655-4ece-98ed-8447ebcea321",
   "metadata": {},
   "source": [
    "평가에 사용하는 데이터가 아직 CPU에 있기 때문에 발생하는 문제 \n",
    "\n",
    "-> eval_model 함수를 수정해서 device 인자를 넣자. "
   ]
  },
  {
   "cell_type": "code",
   "execution_count": 73,
   "id": "d99f0e13-2e35-4c3e-97d6-14a974d2acf4",
   "metadata": {},
   "outputs": [
    {
     "data": {
      "text/plain": [
       "{'model_name': 'FashionMNISTModelV1',\n",
       " 'model_loss': 0.4473024606704712,\n",
       " 'model_acc': 85.02396166134186}"
      ]
     },
     "execution_count": 73,
     "metadata": {},
     "output_type": "execute_result"
    }
   ],
   "source": [
    "torch.manual_seed(42) \n",
    "\n",
    "# argument에' ':' 이거는 type hint\n",
    "def eval_model(model: torch.nn.Module,\n",
    "               data_loader: torch.utils.data.DataLoader,\n",
    "               loss_fn: torch.nn.Module,\n",
    "               accuracy_fn,\n",
    "              device: torch.device = device):\n",
    "    \n",
    "    loss, acc = 0, 0\n",
    "    \n",
    "    model.eval()\n",
    "    with torch.inference_mode():\n",
    "        for X, y in data_loader:\n",
    "            X, y = X.to(device), y.to(device)\n",
    "            y_pred = model(X)\n",
    "            \n",
    "            loss += loss_fn(y_pred, y)\n",
    "            acc += accuracy_fn(y_true=y, y_pred=y_pred.argmax(dim=1))\n",
    "\n",
    "        loss /= len(data_loader)\n",
    "        acc /= len(data_loader)\n",
    "\n",
    "    return {\"model_name\": model.__class__.__name__,\n",
    "            \"model_loss\": loss.item(),\n",
    "            \"model_acc\": acc}\n",
    "\n",
    "model_1_results = eval_model(model=model_1,\n",
    "                            data_loader = test_dataloader,\n",
    "                            loss_fn = loss_fn,\n",
    "                            accuracy_fn = accuracy_fn,\n",
    "                            device = device)\n",
    "\n",
    "model_1_results"
   ]
  },
  {
   "cell_type": "code",
   "execution_count": 74,
   "id": "d5a9b7e9-a6a2-4338-aec9-465a8853ccda",
   "metadata": {},
   "outputs": [
    {
     "data": {
      "text/plain": [
       "{'model_name': 'FashionMNISTModelV0',\n",
       " 'model_loss': 0.47663888335227966,\n",
       " 'model_acc': 83.42651757188499}"
      ]
     },
     "execution_count": 74,
     "metadata": {},
     "output_type": "execute_result"
    }
   ],
   "source": [
    "model_0_results"
   ]
  },
  {
   "cell_type": "markdown",
   "id": "b1afe6b6-3b94-42cc-ab41-259ed3e97c36",
   "metadata": {},
   "source": [
    "## 7. CNN을 이용한 모델 만들기\n",
    "\n",
    "아래에서 구현할 모델은 tinyVGG로 VGGNet이라는 모델을 간단히 줄인 버전.<br>\n",
    "CNN 모델에서 핵심 용어는 다음과 같다. \n",
    "\n",
    "- 합성곱 층(Convlutional layer) : kernel을 이용하여 입력 이미지의 국소 영역에 연산 수행, 이미지의 지역적인 특징 추출.\n",
    "- 활성화 함수 층(Activation layer) : 보통 ReLU 사용, 비선형성을 부여.\n",
    "- 풀링 층(Pooling layer) : 특성 맵(feature map)의 크기를 줄이고 계산량을 줄이며, 주요 정보를 유지하면서 노이즈를 줄임. 보통 Max Pooling 사용\n"
   ]
  },
  {
   "cell_type": "markdown",
   "id": "a31633a2-7c26-417c-90fd-fd5bee08a229",
   "metadata": {},
   "source": [
    "cf) 어떤 모델을 사용하는게 좋을까?\n",
    "\n",
    "문제 유형에 따라 일반적으로 사용하는 모델 유형은 다음과 같다. <br>\n",
    "\n",
    "구조화된 데이터(tabular data) : 그래디언트 부스팅, 랜덤 포레스트, XGBoost ...\n",
    "\n",
    "비구조적 데이터(이미지, 자연어) : 합성곱 신경망(CNN), 트랜스포머"
   ]
  },
  {
   "cell_type": "code",
   "execution_count": 76,
   "id": "b3227417-fefb-4194-9638-8c78bbd107f4",
   "metadata": {},
   "outputs": [],
   "source": [
    "# 커스텀 블럭을 클래스로 따로 만드기 \n",
    "class ConvBlock_1(nn.Module):\n",
    "    def __init__(self, input_shape, hidden_units):\n",
    "        super().__init__()  # nn.Module.__init__(self)를 의미\n",
    "        self.Conv2d_1 = nn.Conv2d(in_channels = input_shape,\n",
    "                                 out_channels = hidden_units,\n",
    "                                 kernel_size = 3,\n",
    "                                 stride = 1,\n",
    "                                 padding = 1)\n",
    "        self.relu_1 = nn.ReLU()\n",
    "        self.Conv2d_2 = nn.Conv2d(in_channels = hidden_units,\n",
    "                                 out_channels = hidden_units,\n",
    "                                 kernel_size = 3,\n",
    "                                 stride = 1,\n",
    "                                 padding = 1)\n",
    "        self.relu_2 = nn.ReLU()\n",
    "        self.pooling = nn.MaxPool2d(kernel_size = 2,\n",
    "                                   stride = 2)\n",
    "\n",
    "    def forward(self, x):\n",
    "        x = self.Conv2d_1(x)\n",
    "        x = self.relu_1(x)\n",
    "        x = self.Conv2d_2(x)\n",
    "        x = self.relu_2(x)\n",
    "        x = self.pooling(x)\n",
    "\n",
    "        return x\n",
    "\n",
    "class ConvBlock_2(nn.Module):\n",
    "    def __init__(self, hidden_units):\n",
    "        super().__init__()\n",
    "        self.Conv2d_1 = nn.Conv2d(in_channels = hidden_units,\n",
    "                                 out_channels = hidden_units,\n",
    "                                 kernel_size = 3,\n",
    "                                 padding = 1)\n",
    "        self.relu_1 = nn.ReLU()\n",
    "        self.Conv2d_2 = nn.Conv2d(in_channels = hidden_units, \n",
    "                                  out_channels = hidden_units, kernel_size= 3, padding = 1)\n",
    "        self.relu_2 = nn.ReLU()\n",
    "        self.pooling = nn.MaxPool2d(2)\n",
    "\n",
    "    def forward(self, x):\n",
    "        x = self.Conv2d_1(x)\n",
    "        x = self.relu_1(x)\n",
    "        x = self.Conv2d_2(x)\n",
    "        x = self.relu_2(x)\n",
    "        x = self.pooling(x)\n",
    "        return x\n",
    "        \n",
    "class classifierBlock(nn.Module):\n",
    "    def __init__(self, hidden_units, output_shape):\n",
    "        super().__init__()\n",
    "        self.flatten = nn.Flatten()\n",
    "        self.linear_1 = nn.Linear(in_features = hidden_units*7*7,\n",
    "                                 out_features = output_shape)\n",
    "\n",
    "    def forward(self, x):\n",
    "        x = self.flatten(x)\n",
    "        x = self.linear_1(x)\n",
    "        return x\n",
    "\n",
    "class FashionMNISTModelV2(nn.Module):\n",
    "    def __init__(self, input_shape, hidden_units, output_shape):\n",
    "        super().__init__()\n",
    "        self.block1 = ConvBlock_1(input_shape, hidden_units)\n",
    "        self.block2 = ConvBlock_2(hidden_units)\n",
    "        self.block3 = classifierBlock(hidden_units, output_shape)\n",
    "\n",
    "    def forward(self, x):\n",
    "        x = self.block1(x)\n",
    "        x = self.block2(x)\n",
    "        x = self.block3(x)\n",
    "        return x\n",
    "\n",
    "        "
   ]
  },
  {
   "cell_type": "code",
   "execution_count": 78,
   "id": "bb5e053f-2e54-4727-9382-2730ffda8152",
   "metadata": {},
   "outputs": [
    {
     "data": {
      "text/plain": [
       "FashionMNISTModelV2(\n",
       "  (block1): ConvBlock_1(\n",
       "    (Conv2d_1): Conv2d(1, 10, kernel_size=(3, 3), stride=(1, 1), padding=(1, 1))\n",
       "    (relu_1): ReLU()\n",
       "    (Conv2d_2): Conv2d(10, 10, kernel_size=(3, 3), stride=(1, 1), padding=(1, 1))\n",
       "    (relu_2): ReLU()\n",
       "    (pooling): MaxPool2d(kernel_size=2, stride=2, padding=0, dilation=1, ceil_mode=False)\n",
       "  )\n",
       "  (block2): ConvBlock_2(\n",
       "    (Conv2d_1): Conv2d(10, 10, kernel_size=(3, 3), stride=(1, 1), padding=(1, 1))\n",
       "    (relu_1): ReLU()\n",
       "    (Conv2d_2): Conv2d(10, 10, kernel_size=(3, 3), stride=(1, 1), padding=(1, 1))\n",
       "    (relu_2): ReLU()\n",
       "    (pooling): MaxPool2d(kernel_size=2, stride=2, padding=0, dilation=1, ceil_mode=False)\n",
       "  )\n",
       "  (block3): classifierBlock(\n",
       "    (flatten): Flatten(start_dim=1, end_dim=-1)\n",
       "    (linear_1): Linear(in_features=490, out_features=10, bias=True)\n",
       "  )\n",
       ")"
      ]
     },
     "execution_count": 78,
     "metadata": {},
     "output_type": "execute_result"
    }
   ],
   "source": [
    "torch.manual_seed(42)\n",
    "model_2 = FashionMNISTModelV2(input_shape = 1, hidden_units = 10, output_shape = len(class_name)).to(device)\n",
    "model_2"
   ]
  },
  {
   "cell_type": "code",
   "execution_count": 85,
   "id": "cb21ddc7-b7c1-4947-8525-372ac554fe8e",
   "metadata": {},
   "outputs": [],
   "source": [
    "loss_fn = nn.CrossEntropyLoss()\n",
    "optimizer = torch.optim.SGD(params = model_2.parameters(), lr = 0.1)\n"
   ]
  },
  {
   "cell_type": "code",
   "execution_count": 90,
   "id": "4c39058b-176e-4df6-adbd-9e1ca94ea8c4",
   "metadata": {},
   "outputs": [
    {
     "data": {
      "application/vnd.jupyter.widget-view+json": {
       "model_id": "ab4630c6f4c04a4b9ebed29433e64ad6",
       "version_major": 2,
       "version_minor": 0
      },
      "text/plain": [
       "  0%|          | 0/3 [00:00<?, ?it/s]"
      ]
     },
     "metadata": {},
     "output_type": "display_data"
    },
    {
     "name": "stdout",
     "output_type": "stream",
     "text": [
      "Epoch: 0\n",
      "------------------------------------------------\n",
      "Train loss: 0.26545 | Train accuracy: 90.42%\n",
      "Test loss: 0.29065 | Test accuracy: 89.41%\n",
      "\n",
      "\n",
      "Epoch: 1\n",
      "------------------------------------------------\n",
      "Train loss: 0.25851 | Train accuracy: 90.62%\n",
      "Test loss: 0.29585 | Test accuracy: 89.10%\n",
      "\n",
      "\n",
      "Epoch: 2\n",
      "------------------------------------------------\n",
      "Train loss: 0.25617 | Train accuracy: 90.64%\n",
      "Test loss: 0.30236 | Test accuracy: 89.12%\n",
      "\n",
      "\n",
      "Train time on cuda: 32.290 seconds\n"
     ]
    }
   ],
   "source": [
    "torch.manual_seed(42)\n",
    "\n",
    "from timeit import default_timer as timer\n",
    "train_time_start_model_2 = timer()\n",
    "\n",
    "epochs = 3\n",
    "for epoch in tqdm(range(epochs)):\n",
    "    print(f\"Epoch: {epoch}\")\n",
    "    print(\"----\"*12)\n",
    "    train_step(data_loader = train_dataloader,\n",
    "              model = model_2,\n",
    "              loss_fn = loss_fn,\n",
    "              optimizer = optimizer,\n",
    "              accuracy_fn = accuracy_fn,\n",
    "              device = device)\n",
    "    \n",
    "    test_step(data_loader = test_dataloader,\n",
    "             model = model_2,\n",
    "              loss_fn = loss_fn,\n",
    "             accuracy_fn = accuracy_fn,\n",
    "             device = device)\n",
    "    print(\"\\n\")\n",
    "\n",
    "train_time_end_model_2 = timer()\n",
    "total_train_time_model_2 = print_train_time(start = train_time_start_model_2,\n",
    "                                            end = train_time_end_model_2,\n",
    "                                            device = device)"
   ]
  },
  {
   "cell_type": "code",
   "execution_count": 92,
   "id": "1467d6d4-714a-4456-9ef5-b3d0ad62f8f8",
   "metadata": {},
   "outputs": [
    {
     "data": {
      "text/plain": [
       "{'model_name': 'FashionMNISTModelV2',\n",
       " 'model_loss': 0.30236008763313293,\n",
       " 'model_acc': 89.11741214057508}"
      ]
     },
     "execution_count": 92,
     "metadata": {},
     "output_type": "execute_result"
    }
   ],
   "source": [
    "model_2_results = eval_model(\n",
    "    model=model_2,\n",
    "    data_loader=test_dataloader,\n",
    "    loss_fn=loss_fn,\n",
    "    accuracy_fn=accuracy_fn\n",
    ")\n",
    "model_2_results"
   ]
  },
  {
   "cell_type": "code",
   "execution_count": 93,
   "id": "f3f6b84a-4280-4d32-8df3-6aee347e8ba1",
   "metadata": {},
   "outputs": [
    {
     "data": {
      "text/html": [
       "<div>\n",
       "<style scoped>\n",
       "    .dataframe tbody tr th:only-of-type {\n",
       "        vertical-align: middle;\n",
       "    }\n",
       "\n",
       "    .dataframe tbody tr th {\n",
       "        vertical-align: top;\n",
       "    }\n",
       "\n",
       "    .dataframe thead th {\n",
       "        text-align: right;\n",
       "    }\n",
       "</style>\n",
       "<table border=\"1\" class=\"dataframe\">\n",
       "  <thead>\n",
       "    <tr style=\"text-align: right;\">\n",
       "      <th></th>\n",
       "      <th>model_name</th>\n",
       "      <th>model_loss</th>\n",
       "      <th>model_acc</th>\n",
       "    </tr>\n",
       "  </thead>\n",
       "  <tbody>\n",
       "    <tr>\n",
       "      <th>0</th>\n",
       "      <td>FashionMNISTModelV0</td>\n",
       "      <td>0.476639</td>\n",
       "      <td>83.426518</td>\n",
       "    </tr>\n",
       "    <tr>\n",
       "      <th>1</th>\n",
       "      <td>FashionMNISTModelV1</td>\n",
       "      <td>0.447302</td>\n",
       "      <td>85.023962</td>\n",
       "    </tr>\n",
       "    <tr>\n",
       "      <th>2</th>\n",
       "      <td>FashionMNISTModelV2</td>\n",
       "      <td>0.302360</td>\n",
       "      <td>89.117412</td>\n",
       "    </tr>\n",
       "  </tbody>\n",
       "</table>\n",
       "</div>"
      ],
      "text/plain": [
       "            model_name  model_loss  model_acc\n",
       "0  FashionMNISTModelV0    0.476639  83.426518\n",
       "1  FashionMNISTModelV1    0.447302  85.023962\n",
       "2  FashionMNISTModelV2    0.302360  89.117412"
      ]
     },
     "execution_count": 93,
     "metadata": {},
     "output_type": "execute_result"
    }
   ],
   "source": [
    "import pandas as pd\n",
    "compare_results = pd.DataFrame([model_0_results, model_1_results, model_2_results])\n",
    "compare_results"
   ]
  },
  {
   "cell_type": "code",
   "execution_count": 95,
   "id": "d885d45e-dfbc-4c56-aec8-bd8bbd428b25",
   "metadata": {},
   "outputs": [
    {
     "data": {
      "text/html": [
       "<div>\n",
       "<style scoped>\n",
       "    .dataframe tbody tr th:only-of-type {\n",
       "        vertical-align: middle;\n",
       "    }\n",
       "\n",
       "    .dataframe tbody tr th {\n",
       "        vertical-align: top;\n",
       "    }\n",
       "\n",
       "    .dataframe thead th {\n",
       "        text-align: right;\n",
       "    }\n",
       "</style>\n",
       "<table border=\"1\" class=\"dataframe\">\n",
       "  <thead>\n",
       "    <tr style=\"text-align: right;\">\n",
       "      <th></th>\n",
       "      <th>model_name</th>\n",
       "      <th>model_loss</th>\n",
       "      <th>model_acc</th>\n",
       "      <th>Training_time</th>\n",
       "    </tr>\n",
       "  </thead>\n",
       "  <tbody>\n",
       "    <tr>\n",
       "      <th>0</th>\n",
       "      <td>FashionMNISTModelV0</td>\n",
       "      <td>0.476639</td>\n",
       "      <td>83.426518</td>\n",
       "      <td>21.723346</td>\n",
       "    </tr>\n",
       "    <tr>\n",
       "      <th>1</th>\n",
       "      <td>FashionMNISTModelV1</td>\n",
       "      <td>0.447302</td>\n",
       "      <td>85.023962</td>\n",
       "      <td>21.446918</td>\n",
       "    </tr>\n",
       "    <tr>\n",
       "      <th>2</th>\n",
       "      <td>FashionMNISTModelV2</td>\n",
       "      <td>0.302360</td>\n",
       "      <td>89.117412</td>\n",
       "      <td>32.289785</td>\n",
       "    </tr>\n",
       "  </tbody>\n",
       "</table>\n",
       "</div>"
      ],
      "text/plain": [
       "            model_name  model_loss  model_acc  Training_time\n",
       "0  FashionMNISTModelV0    0.476639  83.426518      21.723346\n",
       "1  FashionMNISTModelV1    0.447302  85.023962      21.446918\n",
       "2  FashionMNISTModelV2    0.302360  89.117412      32.289785"
      ]
     },
     "execution_count": 95,
     "metadata": {},
     "output_type": "execute_result"
    }
   ],
   "source": [
    "compare_results[\"Training_time\"] = [total_train_time_model_0, total_train_time_model_1, total_train_time_model_2]\n",
    "compare_results"
   ]
  },
  {
   "cell_type": "code",
   "execution_count": 103,
   "id": "c37df535-7cd9-4c66-8c26-5f9b380781ef",
   "metadata": {},
   "outputs": [],
   "source": [
    "def make_predictions(model, data, device):\n",
    "    pred_probs = []\n",
    "    model.eval()\n",
    "    with torch.inference_mode():\n",
    "        for sample in data:\n",
    "            sample = torch.unsqueeze(sample, dim=0).to(device)\n",
    "\n",
    "            pred_logit = model(sample)\n",
    "            pred_prob = torch.softmax(pred_logit.squeeze(), dim=0)\n",
    "            pred_probs.append(pred_prob.cpu())\n",
    "\n",
    "    return torch.stack(pred_probs)"
   ]
  },
  {
   "cell_type": "code",
   "execution_count": 104,
   "id": "d4b46ff5-bf43-4d13-adeb-33ab2b29968a",
   "metadata": {},
   "outputs": [
    {
     "name": "stdout",
     "output_type": "stream",
     "text": [
      "Test sample image shape: torch.Size([1, 28, 28])\n",
      "Test sample label: 5 (Sandal)\n"
     ]
    }
   ],
   "source": [
    "import random \n",
    "random.seed(42)\n",
    "test_samples = []\n",
    "test_labels = []\n",
    "\n",
    "for sample, label in random.sample(list(test_data), k=9):\n",
    "    test_samples.append(sample)\n",
    "    test_labels.append(label)\n",
    "\n",
    "print(f\"Test sample image shape: {test_samples[0].shape}\\nTest sample label: {test_labels[0]} ({class_name[test_labels[0]]})\")"
   ]
  },
  {
   "cell_type": "code",
   "execution_count": 105,
   "id": "6262dcfa-d337-442c-9dc6-46d5fa8ae693",
   "metadata": {},
   "outputs": [
    {
     "data": {
      "text/plain": [
       "tensor([[1.6712e-09, 2.6994e-10, 1.2613e-09, 1.4900e-11, 6.6185e-12, 9.9999e-01,\n",
       "         2.3347e-09, 5.9549e-09, 7.4321e-07, 6.6573e-06],\n",
       "        [9.5534e-02, 8.6930e-01, 2.4703e-04, 2.4607e-03, 2.8862e-02, 1.6383e-05,\n",
       "         3.5630e-03, 3.0501e-06, 1.0099e-05, 8.6886e-06]])"
      ]
     },
     "execution_count": 105,
     "metadata": {},
     "output_type": "execute_result"
    }
   ],
   "source": [
    "pred_probs = make_predictions(model = model_2, data = test_samples, device = device)\n",
    "\n",
    "pred_probs[:2]"
   ]
  },
  {
   "cell_type": "code",
   "execution_count": 106,
   "id": "6fe6388a-d0e4-4dc1-a1f6-5791e057cbbf",
   "metadata": {},
   "outputs": [
    {
     "name": "stdout",
     "output_type": "stream",
     "text": [
      "tensor([5, 1, 7, 4, 3, 0, 4, 7, 1])\n"
     ]
    },
    {
     "data": {
      "text/plain": [
       "([5, 1, 7, 4, 3, 0, 4, 7, 1], tensor([5, 1, 7, 4, 3, 0, 4, 7, 1]))"
      ]
     },
     "execution_count": 106,
     "metadata": {},
     "output_type": "execute_result"
    }
   ],
   "source": [
    "pred_classes = pred_probs.argmax(dim=1)\n",
    "print(pred_classes)\n",
    "test_labels, pred_classes\n"
   ]
  },
  {
   "cell_type": "code",
   "execution_count": 109,
   "id": "3edb0790-9a82-460a-871b-b575d8a7e72d",
   "metadata": {},
   "outputs": [
    {
     "data": {
      "image/png": "[encoded data removed]",
      "text/plain": [
       "<Figure size 900x900 with 9 Axes>"
      ]
     },
     "metadata": {},
     "output_type": "display_data"
    }
   ],
   "source": [
    "# Plot predictions\n",
    "plt.figure(figsize=(9, 9))\n",
    "nrows = 3\n",
    "ncols = 3\n",
    "for i, sample in enumerate(test_samples):\n",
    "  # Create a subplot\n",
    "  plt.subplot(nrows, ncols, i+1)\n",
    "\n",
    "  # Plot the target image\n",
    "  plt.imshow(sample.squeeze(), cmap=\"gray\")\n",
    "\n",
    "  # Find the prediction label (in text form, e.g. \"Sandal\")\n",
    "  pred_label = class_name[pred_classes[i]]\n",
    "\n",
    "  # Get the truth label (in text form, e.g. \"T-shirt\")\n",
    "  truth_label = class_name[test_labels[i]] \n",
    "\n",
    "  # Create the title text of the plot\n",
    "  title_text = f\"Pred: {pred_label} | Truth: {truth_label}\"\n",
    "  \n",
    "  # Check for equality and change title colour accordingly\n",
    "  if pred_label == truth_label:\n",
    "      plt.title(title_text, fontsize=10, c=\"g\") # green text if correct\n",
    "  else:\n",
    "      plt.title(title_text, fontsize=10, c=\"r\") # red text if wrong\n",
    "  plt.axis(False);"
   ]
  },
  {
   "cell_type": "markdown",
   "id": "0e141c95-1212-4d34-ba52-5ae6fca8f5a4",
   "metadata": {},
   "source": [
    "## 11. 모델 저장하고 불러오기 \n",
    "\n",
    "torch.save & torch.load & torch.nn.Moduleload_state_dict() 이용\n"
   ]
  },
  {
   "cell_type": "code",
   "execution_count": 112,
   "id": "a9ce493c-5759-449b-96ec-3f708cbbdc60",
   "metadata": {},
   "outputs": [
    {
     "name": "stdout",
     "output_type": "stream",
     "text": [
      "Saving model to: models/03_pytorch_computer_vision_model_2.pth\n"
     ]
    }
   ],
   "source": [
    "from pathlib import Path\n",
    "\n",
    "MODEL_PATH = Path(\"models\")  # Path은 경로를 objcet 형태로 사용 가능\n",
    "MODEL_PATH.mkdir(parents = True, exist_ok = True)\n",
    "\n",
    "MODEL_NAME = \"03_pytorch_computer_vision_model_2.pth\"\n",
    "MODEL_SAVE_PATH = MODEL_PATH / MODEL_NAME\n",
    "\n",
    "print(f\"Saving model to: {MODEL_SAVE_PATH}\")\n",
    "torch.save(obj = model_2.state_dict(), f = MODEL_SAVE_PATH)\n",
    "\n"
   ]
  },
  {
   "cell_type": "code",
   "execution_count": 114,
   "id": "c19c0ef2-a400-4829-bc09-d4cbd8dc090c",
   "metadata": {},
   "outputs": [],
   "source": [
    "loaded_model_2 = FashionMNISTModelV2(input_shape = 1, \n",
    "                                    hidden_units = 10, \n",
    "                                    output_shape = 10)\n",
    "loaded_model_2.load_state_dict(torch.load(f = MODEL_SAVE_PATH))\n",
    "\n",
    "loaded_model_2 = loaded_model_2.to(device)\n",
    "                               "
   ]
  },
  {
   "cell_type": "code",
   "execution_count": 115,
   "id": "3f77ae02-b937-401f-bad6-6592d63ed7fa",
   "metadata": {},
   "outputs": [
    {
     "data": {
      "text/plain": [
       "{'model_name': 'FashionMNISTModelV2',\n",
       " 'model_loss': 0.30236008763313293,\n",
       " 'model_acc': 89.11741214057508}"
      ]
     },
     "execution_count": 115,
     "metadata": {},
     "output_type": "execute_result"
    }
   ],
   "source": [
    "# Evaluate loaded model\n",
    "torch.manual_seed(42)\n",
    "\n",
    "loaded_model_2_results = eval_model(\n",
    "    model=loaded_model_2,\n",
    "    data_loader=test_dataloader,\n",
    "    loss_fn=loss_fn, \n",
    "    accuracy_fn=accuracy_fn\n",
    ")\n",
    "\n",
    "loaded_model_2_results"
   ]
  },
  {
   "cell_type": "code",
   "execution_count": 116,
   "id": "880023a1-1e62-450d-9a59-345e9d158cc4",
   "metadata": {},
   "outputs": [
    {
     "data": {
      "text/plain": [
       "{'model_name': 'FashionMNISTModelV2',\n",
       " 'model_loss': 0.30236008763313293,\n",
       " 'model_acc': 89.11741214057508}"
      ]
     },
     "execution_count": 116,
     "metadata": {},
     "output_type": "execute_result"
    }
   ],
   "source": [
    "model_2_results"
   ]
  },
  {
   "cell_type": "markdown",
   "id": "b3cf4217-12b3-4161-ba24-46784180d46c",
   "metadata": {},
   "source": [
    "torch.isclose() 함수 사용해서 두 텐서가 얼마나 가까운 값인지 판단\n",
    "atol : 절대 허용 오차\n",
    "rtol : 상대 허용 오차\n",
    "torch.isclose(tensor1, tensor2, rtol=1e-05, atol=1e-08)\n",
    "반환은 각 텐서의 위치에서 오차 이내로 가까우면 True, 그렇지 않으면 False"
   ]
  },
  {
   "cell_type": "code",
   "execution_count": 117,
   "id": "f2a58e05-c889-4948-9123-b4a7d4fcf23a",
   "metadata": {},
   "outputs": [
    {
     "data": {
      "text/plain": [
       "tensor(True)"
      ]
     },
     "execution_count": 117,
     "metadata": {},
     "output_type": "execute_result"
    }
   ],
   "source": [
    "# Check to see if results are close to each other (if they are very far away, there may be an error)\n",
    "torch.isclose(torch.tensor(model_2_results[\"model_loss\"]), \n",
    "              torch.tensor(loaded_model_2_results[\"model_loss\"]),\n",
    "              atol=1e-08, # absolute tolerance\n",
    "              rtol=0.0001) # relative tolerance"
   ]
  },
  {
   "cell_type": "code",
   "execution_count": null,
   "id": "9a517e9f-684d-4e47-a95b-47523d6df316",
   "metadata": {},
   "outputs": [],
   "source": []
  },
  {
   "cell_type": "code",
   "execution_count": null,
   "id": "45307a16-18a7-42c3-922a-0c024c611fae",
   "metadata": {},
   "outputs": [],
   "source": []
  },
  {
   "cell_type": "code",
   "execution_count": null,
   "id": "5bebf673-9227-4b45-89e7-eed2fe262bac",
   "metadata": {},
   "outputs": [],
   "source": []
  },
  {
   "cell_type": "code",
   "execution_count": null,
   "id": "73a913bc-7839-4c24-8e57-b5d0e3d9a7b1",
   "metadata": {},
   "outputs": [],
   "source": []
  }
 ],
 "metadata": {
  "kernelspec": {
   "display_name": "good",
   "language": "python",
   "name": "good"
  },
  "language_info": {
   "codemirror_mode": {
    "name": "ipython",
    "version": 3
   },
   "file_extension": ".py",
   "mimetype": "text/x-python",
   "name": "python",
   "nbconvert_exporter": "python",
   "pygments_lexer": "ipython3",
   "version": "3.10.18"
  }
 },
 "nbformat": 4,
 "nbformat_minor": 5
}

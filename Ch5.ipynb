{
 "cells": [
  {
   "cell_type": "markdown",
   "id": "18b97eeb-4e51-499f-bc99-6f3240cdd51e",
   "metadata": {},
   "source": [
    "# 05. PyTorch 모듈러 배우기\n",
    "\n",
    "노트북으로 작성할 코드를 파이썬 스크립트(.py)로 어떻게 전환하는가\n",
    "\n",
    "주피터에서 작성한 코드를 여러 개의 스크립트 파일로 나누어 **기능별로 모듈화 하는 것**\n",
    "\n",
    "예를 들면 다음과 같이 나눌 수 있다. \n",
    "\n",
    "- data_setup.py : 데이터 다운로드 및 전처리 기능 담당\n",
    "- engine.py : 훈련 및 평가용 함수 정의\n",
    "- model_builder.py or model.py : PyTorch 모델 정의\n",
    "- train.py : 전체 학습 파이프라인을 실행하는 메인 스크립트\n",
    "- utils.py : 시각화 등 여러 유틸리티 함수 모음\n",
    "\n"
   ]
  },
  {
   "cell_type": "markdown",
   "id": "fdb779ee-e902-403c-b8e9-88fbe6ed62a1",
   "metadata": {},
   "source": [
    "### 노트북의 장점과 단점 \n",
    "\n",
    "**장점** \n",
    "\n",
    "실험을 빠르게 반복하고 아이디어를 시각화하고 초기 프로토타이핑 단계에서 강력함\n",
    "\n",
    "**단점**  \n",
    "\n",
    "프로젝트 규모가 커질수록 코드의 재사용성과 유지보수성 떨어짐\n",
    "\n",
    "셀 기반의 실행 방식 때문에 의존성이 꼬이거나 실행 순서 문제가 발생할 수 있음\n",
    "\n",
    "협업이만 버전 관리 측면에서 불편할 수 있음\n",
    "\n",
    "\n",
    "\n"
   ]
  },
  {
   "cell_type": "markdown",
   "id": "07b4f11a-c108-49db-8213-871ab892c76b",
   "metadata": {},
   "source": [
    "### 실전에서의 PyTorch 사용 예\n",
    "\n",
    "다음과 같은 바법으로 train.py 스크립트를 실행하도록 한다. <br>\n",
    "python train.py --model MODEL_NAME --batch_size BATCH_SIZE --lr LEARNING_RATE --num_epochs NUM_EPOCHS <br>\n",
    "\n",
    "예를 들어 TinyVGG 모델을 10에폭동안 학습하고 싶다면<br>\n",
    "python train.py --model tinyvgg --batch_size 32 --lr 0.001 --num_epochs 10\n",
    "\n"
   ]
  },
  {
   "cell_type": "markdown",
   "id": "08acfcec-d944-48a0-b2a0-b8531aa3d340",
   "metadata": {},
   "source": [
    "%%writefile 이라는 매직커멘드를 이용해서 각 주요 부분을 파이썬 스크립트 파일로 저장하는 코드 <br>\n",
    "즉 data_setup.py, train.py 등을 자동 생성\n",
    "\n",
    "**최종 목표**\n",
    "pytoh train.py 라는 커맨드 라인 한 줄로 모델 훈련 가능하게 하기"
   ]
  },
  {
   "cell_type": "code",
   "execution_count": 2,
   "id": "3dbc9927-4f2a-4125-afd7-4317b9878fa2",
   "metadata": {},
   "outputs": [
    {
     "name": "stdout",
     "output_type": "stream",
     "text": [
      "Writing going_modular/data_setup.py\n"
     ]
    }
   ],
   "source": [
    "%%writefile going_modular/data_setup.py\n",
    "\n",
    "import os\n",
    "from torchvision import datasets, transforms\n",
    "from torch.utils.data import DataLoader\n",
    "\n",
    "NUM_WORKERS = os.cpu_count()\n",
    "\n",
    "def create_dataloaders(train_dir: str, \n",
    "                      test_dir: str,\n",
    "                      transform: transforms.Compose,\n",
    "                      batch_size: int,\n",
    "                      num_workers: int=NUM_WORKERS):\n",
    "    \"\"\"\n",
    "    학습용 & 테스트용 데이터로더 만드는 함수\n",
    "\n",
    "    학습용 데이터와 테스트용 데이터가 있는 디렉토리 경로를 받아서 파이토치 데이터셋과 데이터로더로 변환\n",
    "\n",
    "    Args:\n",
    "        train_dir : 훈련용 데이터 디렉토리 경로\n",
    "        test_dir : \n",
    "        transform :\n",
    "        batch_size :\n",
    "        num_workers :\n",
    "    \"\"\"\n",
    "\n",
    "    train_data = datasets.ImageFolder(train_dir, transform = transform)\n",
    "    test_Data - datasets.ImageFolder(test_dir, transform  = transform)\n",
    "\n",
    "    class_names = train_data.classes\n",
    "\n",
    "    train_dataloader = DataLoader(\n",
    "        train_data,\n",
    "        batch_size = batch_size,\n",
    "        suhffle = True,\n",
    "        num_workers = num_workers,\n",
    "        pin_memory = True\n",
    "    )\n",
    "    test_dataloader = DataLoader(\n",
    "        test_data,\n",
    "        batch_size = batch_size,\n",
    "        shuffle = False,\n",
    "        num_workers = num_workers,\n",
    "        pin_memory = True\n",
    "    )\n",
    "\n",
    "    return train_dataloader, test_dataloader, class_names"
   ]
  },
  {
   "cell_type": "code",
   "execution_count": null,
   "id": "381d5497-19b6-467b-a3f4-0e1a30bd6c65",
   "metadata": {},
   "outputs": [],
   "source": [
    "from going_modular import data_setup\n",
    "\n",
    "train_dataloader, test_dataloader, class_names = data_setup.create_dataloaders()"
   ]
  }
 ],
 "metadata": {
  "kernelspec": {
   "display_name": "good",
   "language": "python",
   "name": "good"
  },
  "language_info": {
   "codemirror_mode": {
    "name": "ipython",
    "version": 3
   },
   "file_extension": ".py",
   "mimetype": "text/x-python",
   "name": "python",
   "nbconvert_exporter": "python",
   "pygments_lexer": "ipython3",
   "version": "3.10.18"
  }
 },
 "nbformat": 4,
 "nbformat_minor": 5
}

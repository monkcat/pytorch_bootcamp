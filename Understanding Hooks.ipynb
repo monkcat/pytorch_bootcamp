{
 "cells": [
  {
   "cell_type": "markdown",
   "id": "bdd98103-8064-46e0-8561-8bb59ec82a4b",
   "metadata": {},
   "source": [
    "# Understanding Hooks \n",
    "\n",
    "[reference] <br>\n",
    "https://www.digitalocean.com/community/tutorials/pytorch-hooks-gradient-clipping-debugging\n",
    "\n"
   ]
  },
  {
   "cell_type": "markdown",
   "id": "d2af670d-a7bb-46c5-84f5-0e318fc16e47",
   "metadata": {},
   "source": [
    "PyTorch Hooks는 모델 아키텍처를 변경하지 않고도 학습 과정을 디버깅, 활성화값(activation)을 시각화하거나 기울기를 수정할 수 있다. <br>\n",
    "Hooks는 내부 동작이 불투명한 딥러닝 모델의 내부 흐름을 관찰하고 해석하는데 큰 도움이 된다. <br>"
   ]
  },
  {
   "cell_type": "markdown",
   "id": "81fc3dda-af3e-4835-918a-0c0e1e212e97",
   "metadata": {},
   "source": [
    "## PyTorch Hooks 소개\n",
    "\n",
    "Hooks가 PyTorch에서 중요한 역할을 하는 이유 중 하나는 역전파(backpropagation) 중에 모델과 상호작용할 수 있도록 해주기 때문"
   ]
  },
  {
   "cell_type": "code",
   "execution_count": null,
   "id": "b5c33d16-0f66-4b92-886b-0866264d5e1f",
   "metadata": {},
   "outputs": [],
   "source": []
  }
 ],
 "metadata": {
  "kernelspec": {
   "display_name": "good",
   "language": "python",
   "name": "good"
  },
  "language_info": {
   "codemirror_mode": {
    "name": "ipython",
    "version": 3
   },
   "file_extension": ".py",
   "mimetype": "text/x-python",
   "name": "python",
   "nbconvert_exporter": "python",
   "pygments_lexer": "ipython3",
   "version": "3.10.18"
  }
 },
 "nbformat": 4,
 "nbformat_minor": 5
}

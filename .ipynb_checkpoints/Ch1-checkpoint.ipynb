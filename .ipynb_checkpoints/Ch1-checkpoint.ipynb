{
 "cells": [
  {
   "cell_type": "markdown",
   "id": "f83c55a9-3b21-400d-bf69-33adcfe67ca1",
   "metadata": {},
   "source": [
    "# 01. PyTorch Workflow 기본 개념\n",
    "\n",
    "머신러닝과 딥러닝의 핵심은 과거의 데이터를 가져와서 그 안에서 패턴을 찾는 알고리즘(예: 신경망)을 만들어서 그 패턴을 기반으로 미래를 예측하는 것.\n",
    "\n"
   ]
  },
  {
   "cell_type": "markdown",
   "id": "3b579bbf-af21-4c0d-af1c-581768a09190",
   "metadata": {},
   "source": [
    "## PyTorch Workflow\n",
    "\n",
    "1. 데이터 준비\n",
    "\n",
    "2. 모델 만들기\n",
    "\n",
    "3. 모델 학습\n",
    "\n",
    "4. 예측 및 평가\n",
    "\n",
    "5. 모델 저장 및 불러오기\n",
    "\n",
    "6. 전체 과정 통합\n"
   ]
  },
  {
   "cell_type": "code",
   "execution_count": 3,
   "id": "a92bbf66-e6dd-4573-b83e-5b7128383bfa",
   "metadata": {},
   "outputs": [
    {
     "data": {
      "text/plain": [
       "'2.3.0'"
      ]
     },
     "execution_count": 3,
     "metadata": {},
     "output_type": "execute_result"
    }
   ],
   "source": [
    "import torch\n",
    "from torch import nn\n",
    "import matplotlib.pyplot as plt\n",
    "\n",
    "torch.__version__"
   ]
  },
  {
   "cell_type": "markdown",
   "id": "0fdbd6d9-6b7e-486f-a327-83fa57ed4851",
   "metadata": {},
   "source": [
    "### 1. 데이터 준비\n",
    "\n",
    "데이터는 숫자로 표현되어야 모델이 이해할 수 있음.\n",
    "\n",
    "머신러닝은 크게 두 단계로 이루어져 있다.\n",
    "\n",
    "1. 데이터를 숫자로 표현하기\n",
    "\n",
    "2. 이 변환된 표현을 최대한 잘 학습할 수 있는 모델을 선택하거나 직접 구축하기.\n",
    "\n",
    "첫 번째 단계가 데이터 전처리 및 특징 추출\n",
    "\n",
    "예) 텍스트 -> 단어 임베딩, 이미지 -> 픽셀 배열\n",
    "\n",
    "두번째 단계는 신경망 모델이나 머신러닝 모델을 설계하고 훈련하는 과정"
   ]
  },
  {
   "cell_type": "code",
   "execution_count": 4,
   "id": "45ca40dd-0da0-48dc-800d-8b9dbf0d9c71",
   "metadata": {},
   "outputs": [],
   "source": [
    "\n",
    "weight = 0.7\n",
    "bias = 0.3\n",
    "\n",
    "start = 0\n",
    "end = 1\n",
    "step = 0.02\n",
    "\n",
    "# unsqueeze 이용해서 1차원 벡터를 2차원 텐서로 전환\n",
    "X = torch.arange(start, end, step).unsqueeze(dim=1)\n",
    "\n",
    "y = weight*X + bias\n"
   ]
  },
  {
   "cell_type": "code",
   "execution_count": 5,
   "id": "196f5875-8896-4342-8785-c2fe9a1a3746",
   "metadata": {},
   "outputs": [
    {
     "name": "stdout",
     "output_type": "stream",
     "text": [
      "torch.Size([40, 1]) torch.Size([40, 1]) torch.Size([10, 1]) torch.Size([10, 1])\n"
     ]
    }
   ],
   "source": [
    "train_split = int(0.8*len(X))\n",
    "X_train, y_train = X[:train_split], y[:train_split]\n",
    "X_test, y_test = X[train_split:], y[train_split:]\n",
    "\n",
    "print(X_train.shape, y_train.shape, X_test.shape, y_test.shape)\n"
   ]
  },
  {
   "cell_type": "code",
   "execution_count": 6,
   "id": "94f85fa1-a6c9-4221-9d40-ad74f5a845e9",
   "metadata": {},
   "outputs": [
    {
     "data": {
      "image/png": "[encoded data removed]",
      "text/plain": [
       "<Figure size 1000x700 with 1 Axes>"
      ]
     },
     "metadata": {},
     "output_type": "display_data"
    }
   ],
   "source": [
    "def plot_predictions(train_data = X_train,\n",
    "                     train_labels = y_train,\n",
    "                     test_data = X_test,\n",
    "                     test_labels = y_test,\n",
    "                     predictions = None):\n",
    "  plt.figure(figsize=(10, 7))\n",
    "  plt.scatter(train_data, train_labels, c='b', s=4, label = \"Training data\")\n",
    "  plt.scatter(test_data, test_labels, c='g', s=4, label=\"Testing data\")\n",
    "\n",
    "  if predictions is not None:\n",
    "    plt.scatter(test_data, predictions, c='r', s=4, label=\"Predictions\")\n",
    "\n",
    "  plt.legend(prop={\"size\" : 14})\n",
    "\n",
    "\n",
    "plot_predictions()\n"
   ]
  },
  {
   "cell_type": "code",
   "execution_count": 7,
   "id": "01410d7c-f121-4e2e-8e65-2eee9ebf0860",
   "metadata": {},
   "outputs": [],
   "source": [
    "class LinearRegressionModel(nn.Module):\n",
    "    def __init__(self):\n",
    "        super().__init__()\n",
    "        self.weights = nn.Parameter(torch.randn(1,\n",
    "                                            dtype=torch.float),\n",
    "                                requires_grad = True)\n",
    "        self.bias = nn.Parameter(torch.randn(1,\n",
    "                                         dtype=torch.float),\n",
    "                             requires_grad = True)\n",
    "\n",
    "    def forward(self, x: torch.Tensor) -> torch.Tensor:\n",
    "        \n",
    "        return self.weights*x + self.bias"
   ]
  },
  {
   "cell_type": "markdown",
   "id": "00e71f4b-b82e-4ed6-804d-ef1da0702db7",
   "metadata": {},
   "source": [
    "### PyTorch 모델의 기본 요소\n",
    "\n",
    "- torch.nn : 신경망 구성 블록\n",
    "\n",
    "- torch.optim : 최적화 알고리즘\n",
    "\n",
    "- torch.utils.data.Dataset : 데이터셋 클래스\n",
    "\n",
    "- torch.utils.data.DataLoader : 데이터 배치 로더"
   ]
  },
  {
   "cell_type": "markdown",
   "id": "3d3bbd26-018f-4163-ac08-b19d2d4187e7",
   "metadata": {},
   "source": [
    "- torch.nn\n",
    "\n",
    "- torch.nn.Parameter\n",
    "\n",
    "- torch.nn.Module : 모든 뉴럴 네트워크의 기반 클래스. 반드시 이 클래스를 상속해야 하고 forward()를 정의해야 함.\n",
    "\n",
    "- torch.optim : 파라미터를 어떻게 업데이트 할지 \n",
    "\n",
    "- def forward() : 모델에 입력이 주어졌을 때 어떤 연산을 수행할지 정의. 모든 nn.Module 클래스에서 반드시 구현되어 있어야 함"
   ]
  },
  {
   "cell_type": "markdown",
   "id": "e11840fe-586b-4592-b11c-5d8f411fb466",
   "metadata": {},
   "source": [
    "### 모델 인스턴스 생성 & 파라미터 확인\n",
    "\n",
    "parameters() 메소드 이용하면 모델 안의 파라미터 사용 가능\n",
    "\n",
    "반환 타입은 generator이기 때문에 값을 확인하려면 list() 사용"
   ]
  },
  {
   "cell_type": "code",
   "execution_count": 8,
   "id": "89caecb8-c163-46b2-94d7-744037ac2c10",
   "metadata": {},
   "outputs": [
    {
     "name": "stdout",
     "output_type": "stream",
     "text": [
      "[Parameter containing:\n",
      "tensor([0.3367], requires_grad=True), Parameter containing:\n",
      "tensor([0.1288], requires_grad=True)]\n"
     ]
    }
   ],
   "source": [
    "RANDOM_SEED = 42\n",
    "torch.manual_seed(RANDOM_SEED)\n",
    "\n",
    "model_0 = LinearRegressionModel()\n",
    "\n",
    "print(list(model_0.parameters()))"
   ]
  },
  {
   "cell_type": "markdown",
   "id": "90e196d7-1f85-416e-ae8d-34b1fd4d229d",
   "metadata": {},
   "source": [
    "### 모델 내부 상태 확인하기 \n",
    "\n",
    "state_dict() 사용하면 현재 어떤 값을 가지고 있는지 확인 할 수 있음\n",
    "\n",
    "파라미터들이 이름과 값이 매핑되어 딕셔너리 형태로 반환\n"
   ]
  },
  {
   "cell_type": "code",
   "execution_count": 9,
   "id": "a237cdb1-2d85-43df-a1a2-3f2a28a5897e",
   "metadata": {},
   "outputs": [
    {
     "data": {
      "text/plain": [
       "OrderedDict([('weights', tensor([0.3367])), ('bias', tensor([0.1288]))])"
      ]
     },
     "execution_count": 9,
     "metadata": {},
     "output_type": "execute_result"
    }
   ],
   "source": [
    "model_0.state_dict()"
   ]
  },
  {
   "cell_type": "markdown",
   "id": "67256326-bc3e-463a-a144-1cf4f0070934",
   "metadata": {},
   "source": [
    "지금 LinearRegressionModel은 weights와 bias가 랜덤한 float 텐서\n",
    "\n",
    "이제 이 값을 업데이트 해서 데이터에 가장 잘 맞도록 수렴시켜 보자."
   ]
  },
  {
   "cell_type": "markdown",
   "id": "4336311c-1bd0-4530-98f5-74573995edb7",
   "metadata": {},
   "source": [
    "### 예측해보기 \n",
    "\n",
    "torch.inference_mode() 이용해서 X_test를 얼마나 잘 에측하는지 확인해보자."
   ]
  },
  {
   "cell_type": "code",
   "execution_count": 10,
   "id": "378ebf8d-deec-4687-b8c9-5410b1a7d453",
   "metadata": {},
   "outputs": [],
   "source": [
    "with torch.inference_mode():\n",
    "    y_preds = model_0(X_test)\n",
    "\n",
    "# 이전 방식\n",
    "# with torch.no_grad():\n",
    "#     y_preds = model_0(X_test)\n",
    "# 동작은 하지만 추론 성능이나 메모리 측면에서 좀더 느리고 위의 방식이 더 최적화되어 있음\n",
    "    "
   ]
  },
  {
   "cell_type": "markdown",
   "id": "45e260e5-55db-4928-a1a2-ee94633dee92",
   "metadata": {},
   "source": [
    "### inference_mode() VS torch.no_grad()\n",
    "\n",
    "왜 context manager(with ...)를 사용하는가.\n",
    "\n",
    "먼저 context manager란 with 구문을 통해 리소스를 자동으로 관리하는 파이썬 구조이다. 예측 중에는 자동으로 gradient 추적을 비활성화한다. \n",
    "\n",
    "즉 with torch.inference_mode(): 를 통해 gradient 추적과 같은 여러 기능을 꺼서 추론에만 집중하여 불필요한 자원 소모 없이 예측만 빠르게 처리한다. "
   ]
  },
  {
   "cell_type": "code",
   "execution_count": 11,
   "id": "5d05f162-ef5e-498c-89a8-c900e22fa606",
   "metadata": {},
   "outputs": [
    {
     "name": "stdout",
     "output_type": "stream",
     "text": [
      "Number of testing samples : 10\n",
      "Number of predictions made : 10\n",
      "predicted values:\n",
      "tensor([[0.3982],\n",
      "        [0.4049],\n",
      "        [0.4116],\n",
      "        [0.4184],\n",
      "        [0.4251],\n",
      "        [0.4318],\n",
      "        [0.4386],\n",
      "        [0.4453],\n",
      "        [0.4520],\n",
      "        [0.4588]])\n"
     ]
    }
   ],
   "source": [
    "print(f\"Number of testing samples : {len(X_test)}\")\n",
    "print(f\"Number of predictions made : {len(y_preds)}\")\n",
    "print(f\"predicted values:\\n{y_preds}\")\n",
    "\n"
   ]
  },
  {
   "cell_type": "code",
   "execution_count": 12,
   "id": "fbde36c5-5aef-4142-b48d-d04a0b3a0a89",
   "metadata": {},
   "outputs": [
    {
     "data": {
      "image/png": "[encoded data removed]",
      "text/plain": [
       "<Figure size 1000x700 with 1 Axes>"
      ]
     },
     "metadata": {},
     "output_type": "display_data"
    }
   ],
   "source": [
    "plot_predictions(predictions=y_preds)"
   ]
  },
  {
   "cell_type": "markdown",
   "id": "292a4d4c-2306-4049-8b14-6b0e5e6bcc62",
   "metadata": {},
   "source": [
    "### 모델 학습하기 \n",
    "\n",
    "위에서 한 추론은 찍는 수준이다. 이 값이 유의미해지려면 파라미터를 업데이트 해야한다. "
   ]
  },
  {
   "cell_type": "markdown",
   "id": "9618ca5c-e4c9-43e0-af64-94238a6d1964",
   "metadata": {},
   "source": [
    "### 손실 함수와 옵티마이저 \n",
    "\n",
    "1. Loss function\n",
    "\n",
    "   모델의 예측값이 실제값과 얼마나 다른지 측정한다. 기본적으로는 이 차이가 작을 수록 좋다.\n",
    "\n",
    "   torch.nn.L1Loss(), torch.nn.BCELoss() 등이 있다.\n",
    "\n",
    "2. Optimizer\n",
    "\n",
    "    손실을 줄이기 위해 파라미터를 업데이트하는 방법을 정의한다.\n",
    "\n",
    "   torch.optim.SGD(), torch.optim.Adam() 등이 있다. "
   ]
  },
  {
   "cell_type": "code",
   "execution_count": 13,
   "id": "ad5b4520-5dc7-439f-8021-19c3be1c858c",
   "metadata": {},
   "outputs": [],
   "source": [
    "# 이 문제는 회귀 문제이기 때문에 loss function으로 torch.nn.L1Loss() 사용해보자.\n",
    "# optimizer로는 SGD를 사용해보자. torch.optim.SGD(params, lr)\n",
    "\n",
    "loss_fn = nn.L1Loss()\n",
    "\n",
    "optimizer = torch.optim.SGD(params=model_0.parameters(), \n",
    "                            lr=0.01)"
   ]
  },
  {
   "cell_type": "markdown",
   "id": "25031a85-0950-4178-875d-d4539db6e9b3",
   "metadata": {},
   "source": [
    "### optimization loop 만들기\n",
    "\n",
    "training loop와 test loop 두가지를 만들어보자.<br>\n",
    "training loop에서는 train_data를 반복적으로 학습하면서 입력값(features)와 정답(labels) 사이의 관계 학습\n",
    "\n",
    "\n",
    "test loop에서는 학습 과정에서 사용하지 않은 데이터를 사용해서 학습한 패턴이 얼마나 잘 일반화 되어있는가 평가"
   ]
  },
  {
   "cell_type": "markdown",
   "id": "c2333e55-d66c-43ab-8ce3-c049196ae3ff",
   "metadata": {},
   "source": [
    "### train loop\n",
    "\n",
    "1. Forward Pass : 모델이 훈련 데이터를 전체적으로 한 번 통과하면서 forward() 계산 수행 <br>\n",
    "       y_pred = model(X_train)\n",
    "\n",
    "2. Loss 계산 : 예측값 y_pred를 정답과 y_train과 비교하여 오차를 측정\n",
    "    loss = loss_fn(y_pred, y_train)\n",
    "\n",
    "3. 기존 gradient 초기화 : 기존에 누적된 gradient를 초기화하여 현재 학습 단계만 반영하도록 함.\n",
    "    optimizer.no_grad()\n",
    "\n",
    "4. 역전파(Backpropagation) : 손실함수에서의 결과를 기반으로 모든 파라미터에 대해 gradient 계산\n",
    "    loss.backward()\n",
    "\n",
    "5. 옵티마이저로 파라미터 업데이트 : 계산된 gradient를 사용하여 모델 파라미터를 업데이트\n",
    "    optimizer.step()\n",
    "\n",
    "이 순서가 가장 기본적인 순서이고 모델에 따라 달라질 수 있다. 다만 지켜야 하는 규칙이 존재한다.\n",
    "\n",
    "- loss = loss_fn() 는 loss.backward()보다 **먼저 계산**해야 한다.\n",
    "- optimizer.zero_grad()는 loss.backward()보다 **먼저 실행**해야 한다.\n",
    "- optimzer.step()은 loss.backward 보다 **나중에 실행**해야 한다. "
   ]
  },
  {
   "cell_type": "markdown",
   "id": "44d50467-39e3-45b7-9742-40cd6a11132c",
   "metadata": {},
   "source": [
    "### test loop\n",
    "\n",
    "test loop는 파라미터를 업데이트 하지 않고, 예측 정확도와 loss만 측정한다. \n",
    "\n",
    "1. Forward pass : 모델이 테스트 데이터를 한 번 전체 통과하면서 forward()를 실행\n",
    "    y_pred = model(X_test)\n",
    "\n",
    "2. Loss 계산 : 예측값과 실제값을 비교해 loss 계산\n",
    "    loss = loss_fn(y_pred, y_test)\n",
    "\n",
    "3. (optional) 성능 지표 계산 : accuracy, f1-score와 같은 평가 지표 계산\n",
    "\n",
    "즉 test loop에서는 loss.backward()나 optimizer.step()이 없다. "
   ]
  },
  {
   "cell_type": "code",
   "execution_count": 14,
   "id": "73e00e5b-38e7-48e3-9def-122065505ef2",
   "metadata": {},
   "outputs": [
    {
     "name": "stdout",
     "output_type": "stream",
     "text": [
      "Epoch: 0 | MAE train loss: 0.31288138031959534 | MAE test loss: 0.48106518387794495\n",
      "Epoch: 10 | MAE train loss: 0.1976713240146637 | MAE test loss: 0.3463551998138428\n",
      "Epoch: 20 | MAE train loss: 0.08908725529909134 | MAE test loss: 0.21729660034179688\n",
      "Epoch: 30 | MAE train loss: 0.053148526698350906 | MAE test loss: 0.14464017748832703\n",
      "Epoch: 40 | MAE train loss: 0.04543796554207802 | MAE test loss: 0.11360953003168106\n",
      "Epoch: 50 | MAE train loss: 0.04167863354086876 | MAE test loss: 0.09919948130846024\n",
      "Epoch: 60 | MAE train loss: 0.03818932920694351 | MAE test loss: 0.08886633068323135\n",
      "Epoch: 70 | MAE train loss: 0.03476089984178543 | MAE test loss: 0.0805937647819519\n",
      "Epoch: 80 | MAE train loss: 0.03132382780313492 | MAE test loss: 0.07232122868299484\n",
      "Epoch: 90 | MAE train loss: 0.02788739837706089 | MAE test loss: 0.06473556160926819\n"
     ]
    }
   ],
   "source": [
    "torch.manual_seed(RANDOM_SEED)\n",
    "\n",
    "epochs = 100\n",
    "\n",
    "train_loss_values = []\n",
    "test_loss_values = []\n",
    "epoch_count = []\n",
    "\n",
    "for epoch in range(epochs):\n",
    "\n",
    "    # train 과정\n",
    "\n",
    "    model_0.train() # 모델을 훈련모드로 설정\n",
    "    \n",
    "    y_pred = model_0(X_train) # 1단계 forward 계산\n",
    "    loss = loss_fn(y_pred, y_train) # loss 계산\n",
    "    optimizer.zero_grad() # 옵티마이저 초기화\n",
    "    loss.backward() # 역전파\n",
    "    optimizer.step() # 파라미터 업데이트 \n",
    "\n",
    "    # test 과정\n",
    "    model_0.eval() # Dropout 등 비활성화, 추론모드\n",
    "    \n",
    "    with torch.inference_mode(): # 예측 시 autograd 비활성화 -> 메모리/성능 최적화\n",
    "        test_pred = model_0(X_test)\n",
    "        test_loss = loss_fn(test_pred, y_test.type(torch.float)) # test_pred와 타입이 같아야 loss 계산 가능\n",
    "\n",
    "        if epoch%10 == 0:\n",
    "            epoch_count.append(epoch)\n",
    "            train_loss_values.append(loss.detach().numpy()) # detach().numpy()는 gradient 계산을 제거한 후 넘파이 배열로 변환\n",
    "            test_loss_values.append(test_loss.detach().numpy())\n",
    "            print(f\"Epoch: {epoch} | MAE train loss: {loss} | MAE test loss: {test_loss}\")\n",
    "\n",
    "    "
   ]
  },
  {
   "cell_type": "code",
   "execution_count": 15,
   "id": "419e846c-aeb4-431f-a648-00555dc79aeb",
   "metadata": {},
   "outputs": [
    {
     "data": {
      "image/png": "[encoded data removed]",
      "text/plain": [
       "<Figure size 640x480 with 1 Axes>"
      ]
     },
     "metadata": {},
     "output_type": "display_data"
    }
   ],
   "source": [
    "plt.plot(epoch_count, train_loss_values, label=\"Train loss\")\n",
    "plt.plot(epoch_count, test_loss_values, label=\"Test loss\")\n",
    "plt.title(\"Training and test loss curves\")\n",
    "plt.ylabel(\"Loss\")\n",
    "plt.xlabel(\"Epochs\")\n",
    "plt.legend();"
   ]
  },
  {
   "cell_type": "code",
   "execution_count": 16,
   "id": "ab37aa8e-7f99-4b8c-b61b-92b5f44699ff",
   "metadata": {},
   "outputs": [
    {
     "name": "stdout",
     "output_type": "stream",
     "text": [
      "The model learned the following values for weights and bias:\n",
      "OrderedDict([('weights', tensor([0.5784])), ('bias', tensor([0.3513]))])\n",
      "\n",
      "And the original values for weights and bias are:\n",
      "weights: 0.7, bias: 0.3\n"
     ]
    }
   ],
   "source": [
    "# 학습된 파라미터 확인\n",
    "print(\"The model learned the following values for weights and bias:\")\n",
    "print(model_0.state_dict())\n",
    "print(\"\\nAnd the original values for weights and bias are:\")\n",
    "print(f\"weights: {weight}, bias: {bias}\")"
   ]
  },
  {
   "cell_type": "markdown",
   "id": "50a2819f-65bd-4c97-bbd3-16becb8b9f0b",
   "metadata": {},
   "source": [
    "에폭을 늘려가먼서 어떻게 파라미터(weights, bias)가 변하는지 관찰해보자. <br>\n",
    "에폭이 많이 커질 경우 overfitting의 가능성이 있어서 적절한 시점을 찾는 것이 중요하다. \n"
   ]
  },
  {
   "cell_type": "markdown",
   "id": "5f5869ab-774e-4705-a6ca-f8c4056c2b73",
   "metadata": {},
   "source": [
    "### 학습된 모델로 예측하기(Inference)\n",
    "\n",
    "test loop와 거의 유사하나 루트 외부에서 예측하는 것\n",
    "\n",
    "아래 3가지는 반드시 지키자. \n",
    "1. model.eval() 이용하여 모델을 평가 모드로 설정하기 : Dropout, BatchNorm 등의 훈련 특화 기능을 끄는 역할\n",
    "2. with torch.inference_mode()로 속도/메모리 최적화\n",
    "3. device 일치 : 모델과 데이터를 같은 디바이스에 둬야 돌아간다. "
   ]
  },
  {
   "cell_type": "code",
   "execution_count": 20,
   "id": "fb0f7905-2772-4ff3-8412-f998077ae6f6",
   "metadata": {},
   "outputs": [
    {
     "name": "stdout",
     "output_type": "stream",
     "text": [
      "cuda:0\n"
     ]
    },
    {
     "data": {
      "text/plain": [
       "tensor([[0.8141],\n",
       "        [0.8256],\n",
       "        [0.8372],\n",
       "        [0.8488],\n",
       "        [0.8603],\n",
       "        [0.8719],\n",
       "        [0.8835],\n",
       "        [0.8950],\n",
       "        [0.9066],\n",
       "        [0.9182]], device='cuda:0')"
      ]
     },
     "execution_count": 20,
     "metadata": {},
     "output_type": "execute_result"
    }
   ],
   "source": [
    "device = torch.device('cuda:0' if torch.cuda.is_available() else 'cpu')\n",
    "print(device)\n",
    "\n",
    "model_0.eval()\n",
    "\n",
    "with torch.inference_mode():\n",
    "    model_0.to(device)\n",
    "    X_test = X_test.to(device)\n",
    "    y_preds = model_0(X_test)\n",
    "y_preds"
   ]
  },
  {
   "cell_type": "code",
   "execution_count": 25,
   "id": "663f2003-1104-4d97-8f58-134f13d92a92",
   "metadata": {},
   "outputs": [
    {
     "data": {
      "image/png": "[encoded data removed]",
      "text/plain": [
       "<Figure size 1000x700 with 1 Axes>"
      ]
     },
     "metadata": {},
     "output_type": "display_data"
    }
   ],
   "source": [
    "y_preds = y_preds.cpu()\n",
    "plot_predictions(predictions=y_preds)"
   ]
  },
  {
   "cell_type": "markdown",
   "id": "a78b5000-1676-4cab-b66e-613db57959e5",
   "metadata": {},
   "source": [
    "### 모델 저장 및 불러오기\n",
    "\n",
    "모델을 다른 곳에서 학습시키고 추론할기 위해 옮길 수도 있고 서비스로 배포할 수 있기 때문에 모델을 저장하고 불러오는 것은 중요하다. <br>\n",
    "모델을 저장하고 불러오는 주요 3가지 방식을 소개한다. \n",
    "\n",
    "1. torch.save : 모델이나 텐서, 딕셔너리 등의 python 객체를 파일로 저장한다. -> 내부적으로 pickle 모듈 사용\n",
    "2. torch.load : 저장된 파일을 메모리로 불러온다. 불러올 메모리를 지정할 수 있다.\n",
    "3. model.load_state_dict() : 저자된 모델의 파라미터를 로드해서, 기존 모델 인스턴스에 값을 복원한다.\n",
    "\n",
    "☛ 주의점 : pickle은 보안에 취약하므로 신뢰할 수 없는 소스에서 저장된 파일을 열어서는 안된다. "
   ]
  },
  {
   "cell_type": "markdown",
   "id": "7861a545-ac6c-44e5-b4be-62a6f13706d7",
   "metadata": {},
   "source": [
    "### state_dict() 이용해서 저장하기 \n",
    "\n",
    "pytorch에서 가장 권장되는 방식은 모델 전체 구조를 저장하는 것이 아닌 파라미터만 저장하고 불러오는 방식이다.<br> \n",
    "장점으로는 구조와 파라미터를 분리할 수 있어서 유연하고, 파일이 작고 안정성이 높다. \n",
    "\n",
    "**저장 과정**\n",
    "1. models 라는 이름의 폴더 만들기 (python의 pathlib 사용)\n",
    "2. 저장할 파일 경로 지정\n",
    "3. torch.save(obj, f)로 state_dict() 저장\n",
    "\n",
    "보통 .pth/.pt 확장자 사용한다. \n"
   ]
  },
  {
   "cell_type": "code",
   "execution_count": 28,
   "id": "3c6457fc-ecf2-47c6-9bdc-de7af45eea07",
   "metadata": {},
   "outputs": [
    {
     "name": "stdout",
     "output_type": "stream",
     "text": [
      "Saving model to: models/01.pytorch_workflow_model_0.pth\n"
     ]
    }
   ],
   "source": [
    "from pathlib import Path\n",
    "\n",
    "# 모델 디렉토리 만들기 \n",
    "MODEL_PATH = Path(\"models\")\n",
    "MODEL_PATH.mkdir(parents=True, exist_ok=True)\n",
    "\n",
    "# 모델 저장 경로 만들기\n",
    "MODEL_NAME = \"01.pytorch_workflow_model_0.pth\"\n",
    "MODEL_SAVE_PATH = MODEL_PATH / MODEL_NAME\n",
    "\n",
    "# 모델의 state_dict 저장하기\n",
    "print(f\"Saving model to: {MODEL_SAVE_PATH}\")\n",
    "torch.save(obj=model_0.state_dict(), f=MODEL_SAVE_PATH) # obj는 model_name.state_dict(), # f는 경로"
   ]
  },
  {
   "cell_type": "code",
   "execution_count": 30,
   "id": "85505d09-744c-4985-a3c8-d5f1ecda4307",
   "metadata": {},
   "outputs": [
    {
     "name": "stdout",
     "output_type": "stream",
     "text": [
      "-rw-r--r-- 1 root root 1744 Jul 10 08:46 models/01.pytorch_workflow_model_0.pth\n"
     ]
    }
   ],
   "source": [
    "!ls -l models/01.pytorch_workflow_model_0.pth"
   ]
  },
  {
   "cell_type": "markdown",
   "id": "f06b5ec1-4539-47cb-8eb8-51d593a56b25",
   "metadata": {},
   "source": [
    "### 저장된 모델의 파라미터 로드하기 \n",
    "\n",
    "load_state_dict()안에 torch.load()을 넣자. <br>\n",
    "먼저 torch.load()를 이용해서 해당 딕셔너리를 메모리에 불러온 후 그걸 새로 생성한 동일 구조의 인스턴스에 넣어주기\n",
    "\n",
    "Q. 왜 모델 전체를 저장하지 않나요?\n",
    "A. 전체 모델을 저장하면 해당 모델을 정의한 클래스 코드와 디렉토리 구조에 의존하기 때문에 프로젝트 구조가 바뀌거나 다른 환경에서 사용할 경우 호환성 문제가 발생할 수 있음.\n"
   ]
  },
  {
   "cell_type": "code",
   "execution_count": 31,
   "id": "986e47a2-9acc-4cef-9f33-3bc924e4d59f",
   "metadata": {},
   "outputs": [
    {
     "data": {
      "text/plain": [
       "<All keys matched successfully>"
      ]
     },
     "execution_count": 31,
     "metadata": {},
     "output_type": "execute_result"
    }
   ],
   "source": [
    "loaded_model = LinearRegressionModel()\n",
    "\n",
    "loaded_model.load_state_dict(torch.load(f=MODEL_SAVE_PATH))"
   ]
  },
  {
   "cell_type": "markdown",
   "id": "c6f78850-4685-41bf-9f1a-51440ce1cd17",
   "metadata": {},
   "source": [
    "### 불러온 모델로 실제 예측하기\n",
    "\n",
    "inference시 3가지 규칙 \n",
    "1. 모델을 평가 모드로 전환한다.\n",
    "2. inference 모드에서 예측한다.\n",
    "3. 데이터와 모델은 반드시 같은 디바이스\n"
   ]
  },
  {
   "cell_type": "code",
   "execution_count": 35,
   "id": "12205a85-63b2-40f9-8fb3-69425dc16e80",
   "metadata": {},
   "outputs": [
    {
     "data": {
      "text/plain": [
       "tensor([[True],\n",
       "        [True],\n",
       "        [True],\n",
       "        [True],\n",
       "        [True],\n",
       "        [True],\n",
       "        [True],\n",
       "        [True],\n",
       "        [True],\n",
       "        [True]], device='cuda:0')"
      ]
     },
     "execution_count": 35,
     "metadata": {},
     "output_type": "execute_result"
    }
   ],
   "source": [
    "loaded_model.eval()\n",
    "loaded_model.to(device)\n",
    "\n",
    "with torch.inference_mode():\n",
    "    loaded_model_preds = loaded_model(X_test)\n",
    "\n",
    "y_preds == loaded_model_preds"
   ]
  }
 ],
 "metadata": {
  "kernelspec": {
   "display_name": "good",
   "language": "python",
   "name": "good"
  },
  "language_info": {
   "codemirror_mode": {
    "name": "ipython",
    "version": 3
   },
   "file_extension": ".py",
   "mimetype": "text/x-python",
   "name": "python",
   "nbconvert_exporter": "python",
   "pygments_lexer": "ipython3",
   "version": "3.10.18"
  }
 },
 "nbformat": 4,
 "nbformat_minor": 5
}

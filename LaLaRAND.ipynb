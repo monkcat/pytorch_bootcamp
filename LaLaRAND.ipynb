{
 "cells": [
  {
   "cell_type": "code",
   "execution_count": 2,
   "id": "e934a126-fcdc-440a-ad0a-d43ea9cca79f",
   "metadata": {},
   "outputs": [
    {
     "name": "stderr",
     "output_type": "stream",
     "text": [
      "Using cache found in /root/.cache/torch/hub/pytorch_vision_v0.10.0\n"
     ]
    }
   ],
   "source": [
    "import torch\n",
    "model = torch.hub.load('pytorch/vision:v0.10.0', 'squeezenet1_0', pretrained=True)\n",
    "# or\n",
    "# model = torch.hub.load('pytorch/vision:v0.10.0', 'squeezenet1_1', pretrained=True)\n"
   ]
  },
  {
   "cell_type": "code",
   "execution_count": 6,
   "id": "d44fd703-14ff-43b1-880d-33f492882f86",
   "metadata": {},
   "outputs": [
    {
     "data": {
      "text/plain": [
       "=================================================================\n",
       "Layer (type:depth-idx)                   Param #\n",
       "=================================================================\n",
       "SqueezeNet                               --\n",
       "├─Sequential: 1-1                        --\n",
       "│    └─Conv2d: 2-1                       14,208\n",
       "│    └─ReLU: 2-2                         --\n",
       "│    └─MaxPool2d: 2-3                    --\n",
       "│    └─Fire: 2-4                         --\n",
       "│    │    └─Conv2d: 3-1                  1,552\n",
       "│    │    └─ReLU: 3-2                    --\n",
       "│    │    └─Conv2d: 3-3                  1,088\n",
       "│    │    └─ReLU: 3-4                    --\n",
       "│    │    └─Conv2d: 3-5                  9,280\n",
       "│    │    └─ReLU: 3-6                    --\n",
       "│    └─Fire: 2-5                         --\n",
       "│    │    └─Conv2d: 3-7                  2,064\n",
       "│    │    └─ReLU: 3-8                    --\n",
       "│    │    └─Conv2d: 3-9                  1,088\n",
       "│    │    └─ReLU: 3-10                   --\n",
       "│    │    └─Conv2d: 3-11                 9,280\n",
       "│    │    └─ReLU: 3-12                   --\n",
       "│    └─Fire: 2-6                         --\n",
       "│    │    └─Conv2d: 3-13                 4,128\n",
       "│    │    └─ReLU: 3-14                   --\n",
       "│    │    └─Conv2d: 3-15                 4,224\n",
       "│    │    └─ReLU: 3-16                   --\n",
       "│    │    └─Conv2d: 3-17                 36,992\n",
       "│    │    └─ReLU: 3-18                   --\n",
       "│    └─MaxPool2d: 2-7                    --\n",
       "│    └─Fire: 2-8                         --\n",
       "│    │    └─Conv2d: 3-19                 8,224\n",
       "│    │    └─ReLU: 3-20                   --\n",
       "│    │    └─Conv2d: 3-21                 4,224\n",
       "│    │    └─ReLU: 3-22                   --\n",
       "│    │    └─Conv2d: 3-23                 36,992\n",
       "│    │    └─ReLU: 3-24                   --\n",
       "│    └─Fire: 2-9                         --\n",
       "│    │    └─Conv2d: 3-25                 12,336\n",
       "│    │    └─ReLU: 3-26                   --\n",
       "│    │    └─Conv2d: 3-27                 9,408\n",
       "│    │    └─ReLU: 3-28                   --\n",
       "│    │    └─Conv2d: 3-29                 83,136\n",
       "│    │    └─ReLU: 3-30                   --\n",
       "│    └─Fire: 2-10                        --\n",
       "│    │    └─Conv2d: 3-31                 18,480\n",
       "│    │    └─ReLU: 3-32                   --\n",
       "│    │    └─Conv2d: 3-33                 9,408\n",
       "│    │    └─ReLU: 3-34                   --\n",
       "│    │    └─Conv2d: 3-35                 83,136\n",
       "│    │    └─ReLU: 3-36                   --\n",
       "│    └─Fire: 2-11                        --\n",
       "│    │    └─Conv2d: 3-37                 24,640\n",
       "│    │    └─ReLU: 3-38                   --\n",
       "│    │    └─Conv2d: 3-39                 16,640\n",
       "│    │    └─ReLU: 3-40                   --\n",
       "│    │    └─Conv2d: 3-41                 147,712\n",
       "│    │    └─ReLU: 3-42                   --\n",
       "│    └─MaxPool2d: 2-12                   --\n",
       "│    └─Fire: 2-13                        --\n",
       "│    │    └─Conv2d: 3-43                 32,832\n",
       "│    │    └─ReLU: 3-44                   --\n",
       "│    │    └─Conv2d: 3-45                 16,640\n",
       "│    │    └─ReLU: 3-46                   --\n",
       "│    │    └─Conv2d: 3-47                 147,712\n",
       "│    │    └─ReLU: 3-48                   --\n",
       "├─Sequential: 1-2                        --\n",
       "│    └─Dropout: 2-14                     --\n",
       "│    └─Conv2d: 2-15                      513,000\n",
       "│    └─ReLU: 2-16                        --\n",
       "│    └─AdaptiveAvgPool2d: 2-17           --\n",
       "=================================================================\n",
       "Total params: 1,248,424\n",
       "Trainable params: 1,248,424\n",
       "Non-trainable params: 0\n",
       "================================================================="
      ]
     },
     "execution_count": 6,
     "metadata": {},
     "output_type": "execute_result"
    }
   ],
   "source": [
    "from torchinfo import summary\n",
    "summary(model)"
   ]
  },
  {
   "cell_type": "code",
   "execution_count": null,
   "id": "ada4f7b3-9b28-4269-b724-6046baa96585",
   "metadata": {},
   "outputs": [],
   "source": []
  },
  {
   "cell_type": "code",
   "execution_count": null,
   "id": "03a50960-b449-4667-b549-11fbae15b5fa",
   "metadata": {},
   "outputs": [],
   "source": []
  }
 ],
 "metadata": {
  "kernelspec": {
   "display_name": "good",
   "language": "python",
   "name": "good"
  },
  "language_info": {
   "codemirror_mode": {
    "name": "ipython",
    "version": 3
   },
   "file_extension": ".py",
   "mimetype": "text/x-python",
   "name": "python",
   "nbconvert_exporter": "python",
   "pygments_lexer": "ipython3",
   "version": "3.10.18"
  }
 },
 "nbformat": 4,
 "nbformat_minor": 5
}
